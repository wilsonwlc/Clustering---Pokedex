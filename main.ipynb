{
 "cells": [
  {
   "cell_type": "markdown",
   "metadata": {},
   "source": [
    "# Clustering - Pokémon"
   ]
  },
  {
   "cell_type": "markdown",
   "metadata": {},
   "source": [
    "## Aim\n",
    "Categorise Pokémon based on their stats, e.g., attack, defense, special attack, special defense, speed, and HP"
   ]
  },
  {
   "cell_type": "markdown",
   "metadata": {},
   "source": [
    "## Method"
   ]
  },
  {
   "cell_type": "markdown",
   "metadata": {},
   "source": [
    "### Data\n",
    "The dataset was be downloaded from [Kaggle](https://www.kaggle.com/datasets/rounakbanik/pokemon?resource=download). It contains the 41 columns. Only the features were investigated. \n",
    "- `name`: The English name of the Pokemon\n",
    "- `pokedex_number`: The entry number of the Pokemon in the National Pokedex\n",
    "- `attack`: The Base Attack of the Pokemon\n",
    "- `defense`: The Base Defense of the Pokemon\n",
    "- `sp_attack`: The Base Special Attack of the Pokemon\n",
    "- `sp_defense`: The Base Special Defense of the Pokemon\n",
    "- `hp`: The Base HP of the Pokemon\n",
    "- `speed`: The Base Speed of the Pokemon\n",
    "- `generation`: The numbered generation which the Pokemon was first introduced\n",
    "- `is_legendary`: Denotes if the Pokemon is legendary"
   ]
  },
  {
   "cell_type": "markdown",
   "metadata": {},
   "source": [
    "### Algorithm\n",
    "Given a dataset $\\{x^{(i)}, y^{(i)}\\}_{i=1}^{m}$, choose the number of clusters $K$, where $K < m$. Denote $c^{(i)}$ as the cluster that the $i$-th example is assigned to, and $S_k$ as the set of data points assigned to cluster $k$.\n",
    "1. Randomly initialise $K$ cluster centroids $\\mu_{1}, \\mu_{2}, ..., \\mu_{K}$ *i.e.* the points in the feature space that represent the centre of each cluster. In practice, just randomly pick $K$ training examples and set $\\mu_{1}, \\mu_{2}, ..., \\mu_{K}$ equal to these $K$ examples\n",
    "2. For each data point, calculate the distance to each centroid and assign the data point to the cluster whose centroid is closest $$c^{(i)} = \\underset{k \\in \\{1,2,...,K\\}}{\\text{arg min}} \\| x^{(i)} - \\mu_{k}\\|^{2}_{2}$$\n",
    "3. For each cluster, calculate the mean of all data points assigned to that cluster and move the cluster centroid to the calculated mean $$\\mu_{k} = \\frac{1}{|S_{k}|}\\sum\\limits_{i \\in S_{k}} x^{(i)}$$\n",
    "4. Repeat Step 2 and 3 until the assignment of data points to clusters no longer changes or changes very minimally\n",
    "5. Compute cost function $$J(c^{(1)}, ..., c^{(m)}, \\mu_{1}, ..., \\mu_{K}) = \\frac{1}{m} \\sum\\limits_{i=1}^{m} || x^{(i)} - \\mu_{c^{(i)}}||^{2}$$\n",
    "6. Repeat steps 1 to 5 around 50 ~ 1000 times and pick the set of clusters giving lowest cost $J$"
   ]
  },
  {
   "cell_type": "markdown",
   "metadata": {},
   "source": [
    "## Analysis"
   ]
  },
  {
   "cell_type": "code",
   "execution_count": 97,
   "metadata": {},
   "outputs": [],
   "source": [
    "import pandas as pd\n",
    "import matplotlib.pyplot as plt\n",
    "import seaborn as sns\n",
    "from sklearn.preprocessing import StandardScaler\n",
    "from sklearn.cluster import KMeans\n",
    "from kneed import KneeLocator\n",
    "from sklearn.metrics import silhouette_score\n",
    "from sklearn.decomposition import PCA\n",
    "import plotly\n",
    "import plotly.express as px\n",
    "import numpy as np\n",
    "from sklearn.neighbors import NearestNeighbors\n",
    "from sklearn.cluster import DBSCAN\n"
   ]
  },
  {
   "cell_type": "markdown",
   "metadata": {},
   "source": [
    "### Import data"
   ]
  },
  {
   "cell_type": "code",
   "execution_count": 98,
   "metadata": {},
   "outputs": [],
   "source": [
    "df0 = pd.read_csv(\"./data/pokemon.csv\")"
   ]
  },
  {
   "cell_type": "code",
   "execution_count": 99,
   "metadata": {},
   "outputs": [
    {
     "data": {
      "text/plain": [
       "Index(['abilities', 'against_bug', 'against_dark', 'against_dragon',\n",
       "       'against_electric', 'against_fairy', 'against_fight', 'against_fire',\n",
       "       'against_flying', 'against_ghost', 'against_grass', 'against_ground',\n",
       "       'against_ice', 'against_normal', 'against_poison', 'against_psychic',\n",
       "       'against_rock', 'against_steel', 'against_water', 'attack',\n",
       "       'base_egg_steps', 'base_happiness', 'base_total', 'capture_rate',\n",
       "       'classfication', 'defense', 'experience_growth', 'height_m', 'hp',\n",
       "       'japanese_name', 'name', 'percentage_male', 'pokedex_number',\n",
       "       'sp_attack', 'sp_defense', 'speed', 'type1', 'type2', 'weight_kg',\n",
       "       'generation', 'is_legendary'],\n",
       "      dtype='object')"
      ]
     },
     "execution_count": 99,
     "metadata": {},
     "output_type": "execute_result"
    }
   ],
   "source": [
    "df0.columns"
   ]
  },
  {
   "cell_type": "code",
   "execution_count": 100,
   "metadata": {},
   "outputs": [
    {
     "data": {
      "text/html": [
       "<div>\n",
       "<style scoped>\n",
       "    .dataframe tbody tr th:only-of-type {\n",
       "        vertical-align: middle;\n",
       "    }\n",
       "\n",
       "    .dataframe tbody tr th {\n",
       "        vertical-align: top;\n",
       "    }\n",
       "\n",
       "    .dataframe thead th {\n",
       "        text-align: right;\n",
       "    }\n",
       "</style>\n",
       "<table border=\"1\" class=\"dataframe\">\n",
       "  <thead>\n",
       "    <tr style=\"text-align: right;\">\n",
       "      <th></th>\n",
       "      <th>attack</th>\n",
       "      <th>defense</th>\n",
       "      <th>sp_attack</th>\n",
       "      <th>sp_defense</th>\n",
       "      <th>hp</th>\n",
       "      <th>speed</th>\n",
       "    </tr>\n",
       "    <tr>\n",
       "      <th>pokedex_number</th>\n",
       "      <th></th>\n",
       "      <th></th>\n",
       "      <th></th>\n",
       "      <th></th>\n",
       "      <th></th>\n",
       "      <th></th>\n",
       "    </tr>\n",
       "  </thead>\n",
       "  <tbody>\n",
       "    <tr>\n",
       "      <th>1</th>\n",
       "      <td>49</td>\n",
       "      <td>49</td>\n",
       "      <td>65</td>\n",
       "      <td>65</td>\n",
       "      <td>45</td>\n",
       "      <td>45</td>\n",
       "    </tr>\n",
       "    <tr>\n",
       "      <th>2</th>\n",
       "      <td>62</td>\n",
       "      <td>63</td>\n",
       "      <td>80</td>\n",
       "      <td>80</td>\n",
       "      <td>60</td>\n",
       "      <td>60</td>\n",
       "    </tr>\n",
       "    <tr>\n",
       "      <th>3</th>\n",
       "      <td>100</td>\n",
       "      <td>123</td>\n",
       "      <td>122</td>\n",
       "      <td>120</td>\n",
       "      <td>80</td>\n",
       "      <td>80</td>\n",
       "    </tr>\n",
       "    <tr>\n",
       "      <th>4</th>\n",
       "      <td>52</td>\n",
       "      <td>43</td>\n",
       "      <td>60</td>\n",
       "      <td>50</td>\n",
       "      <td>39</td>\n",
       "      <td>65</td>\n",
       "    </tr>\n",
       "    <tr>\n",
       "      <th>5</th>\n",
       "      <td>64</td>\n",
       "      <td>58</td>\n",
       "      <td>80</td>\n",
       "      <td>65</td>\n",
       "      <td>58</td>\n",
       "      <td>80</td>\n",
       "    </tr>\n",
       "    <tr>\n",
       "      <th>6</th>\n",
       "      <td>104</td>\n",
       "      <td>78</td>\n",
       "      <td>159</td>\n",
       "      <td>115</td>\n",
       "      <td>78</td>\n",
       "      <td>100</td>\n",
       "    </tr>\n",
       "    <tr>\n",
       "      <th>7</th>\n",
       "      <td>48</td>\n",
       "      <td>65</td>\n",
       "      <td>50</td>\n",
       "      <td>64</td>\n",
       "      <td>44</td>\n",
       "      <td>43</td>\n",
       "    </tr>\n",
       "    <tr>\n",
       "      <th>8</th>\n",
       "      <td>63</td>\n",
       "      <td>80</td>\n",
       "      <td>65</td>\n",
       "      <td>80</td>\n",
       "      <td>59</td>\n",
       "      <td>58</td>\n",
       "    </tr>\n",
       "    <tr>\n",
       "      <th>9</th>\n",
       "      <td>103</td>\n",
       "      <td>120</td>\n",
       "      <td>135</td>\n",
       "      <td>115</td>\n",
       "      <td>79</td>\n",
       "      <td>78</td>\n",
       "    </tr>\n",
       "    <tr>\n",
       "      <th>10</th>\n",
       "      <td>30</td>\n",
       "      <td>35</td>\n",
       "      <td>20</td>\n",
       "      <td>20</td>\n",
       "      <td>45</td>\n",
       "      <td>45</td>\n",
       "    </tr>\n",
       "  </tbody>\n",
       "</table>\n",
       "</div>"
      ],
      "text/plain": [
       "                attack  defense  sp_attack  sp_defense  hp  speed\n",
       "pokedex_number                                                   \n",
       "1                   49       49         65          65  45     45\n",
       "2                   62       63         80          80  60     60\n",
       "3                  100      123        122         120  80     80\n",
       "4                   52       43         60          50  39     65\n",
       "5                   64       58         80          65  58     80\n",
       "6                  104       78        159         115  78    100\n",
       "7                   48       65         50          64  44     43\n",
       "8                   63       80         65          80  59     58\n",
       "9                  103      120        135         115  79     78\n",
       "10                  30       35         20          20  45     45"
      ]
     },
     "execution_count": 100,
     "metadata": {},
     "output_type": "execute_result"
    }
   ],
   "source": [
    "columns = ['pokedex_number', 'attack', 'defense', 'sp_attack', 'sp_defense', 'hp', 'speed']\n",
    "condition_generation = df0['generation'].isin([1,2,3])\n",
    "df = df0.loc[condition_generation, columns]\n",
    "df.set_index('pokedex_number', inplace=True)\n",
    "df.head(10)"
   ]
  },
  {
   "cell_type": "markdown",
   "metadata": {},
   "source": [
    "### Data checking"
   ]
  },
  {
   "cell_type": "markdown",
   "metadata": {},
   "source": [
    "#### Dimension"
   ]
  },
  {
   "cell_type": "code",
   "execution_count": 101,
   "metadata": {},
   "outputs": [
    {
     "data": {
      "text/plain": [
       "(386, 6)"
      ]
     },
     "execution_count": 101,
     "metadata": {},
     "output_type": "execute_result"
    }
   ],
   "source": [
    "df.shape"
   ]
  },
  {
   "cell_type": "markdown",
   "metadata": {},
   "source": [
    "#### Data type"
   ]
  },
  {
   "cell_type": "code",
   "execution_count": 102,
   "metadata": {},
   "outputs": [
    {
     "name": "stdout",
     "output_type": "stream",
     "text": [
      "<class 'pandas.core.frame.DataFrame'>\n",
      "Index: 386 entries, 1 to 386\n",
      "Data columns (total 6 columns):\n",
      " #   Column      Non-Null Count  Dtype\n",
      "---  ------      --------------  -----\n",
      " 0   attack      386 non-null    int64\n",
      " 1   defense     386 non-null    int64\n",
      " 2   sp_attack   386 non-null    int64\n",
      " 3   sp_defense  386 non-null    int64\n",
      " 4   hp          386 non-null    int64\n",
      " 5   speed       386 non-null    int64\n",
      "dtypes: int64(6)\n",
      "memory usage: 21.1 KB\n"
     ]
    }
   ],
   "source": [
    "df.info()"
   ]
  },
  {
   "cell_type": "markdown",
   "metadata": {},
   "source": [
    "### Data exploration"
   ]
  },
  {
   "cell_type": "markdown",
   "metadata": {},
   "source": [
    "#### Summary statistics"
   ]
  },
  {
   "cell_type": "code",
   "execution_count": 103,
   "metadata": {},
   "outputs": [
    {
     "data": {
      "text/html": [
       "<div>\n",
       "<style scoped>\n",
       "    .dataframe tbody tr th:only-of-type {\n",
       "        vertical-align: middle;\n",
       "    }\n",
       "\n",
       "    .dataframe tbody tr th {\n",
       "        vertical-align: top;\n",
       "    }\n",
       "\n",
       "    .dataframe thead th {\n",
       "        text-align: right;\n",
       "    }\n",
       "</style>\n",
       "<table border=\"1\" class=\"dataframe\">\n",
       "  <thead>\n",
       "    <tr style=\"text-align: right;\">\n",
       "      <th></th>\n",
       "      <th>attack</th>\n",
       "      <th>defense</th>\n",
       "      <th>sp_attack</th>\n",
       "      <th>sp_defense</th>\n",
       "      <th>hp</th>\n",
       "      <th>speed</th>\n",
       "    </tr>\n",
       "  </thead>\n",
       "  <tbody>\n",
       "    <tr>\n",
       "      <th>count</th>\n",
       "      <td>386.000000</td>\n",
       "      <td>386.000000</td>\n",
       "      <td>386.000000</td>\n",
       "      <td>386.000000</td>\n",
       "      <td>386.000000</td>\n",
       "      <td>386.000000</td>\n",
       "    </tr>\n",
       "    <tr>\n",
       "      <th>mean</th>\n",
       "      <td>74.274611</td>\n",
       "      <td>71.417098</td>\n",
       "      <td>69.121762</td>\n",
       "      <td>69.795337</td>\n",
       "      <td>66.525907</td>\n",
       "      <td>65.639896</td>\n",
       "    </tr>\n",
       "    <tr>\n",
       "      <th>std</th>\n",
       "      <td>32.599932</td>\n",
       "      <td>33.588335</td>\n",
       "      <td>32.296487</td>\n",
       "      <td>29.380744</td>\n",
       "      <td>28.237133</td>\n",
       "      <td>29.491225</td>\n",
       "    </tr>\n",
       "    <tr>\n",
       "      <th>min</th>\n",
       "      <td>5.000000</td>\n",
       "      <td>5.000000</td>\n",
       "      <td>10.000000</td>\n",
       "      <td>20.000000</td>\n",
       "      <td>1.000000</td>\n",
       "      <td>5.000000</td>\n",
       "    </tr>\n",
       "    <tr>\n",
       "      <th>25%</th>\n",
       "      <td>50.000000</td>\n",
       "      <td>50.000000</td>\n",
       "      <td>45.000000</td>\n",
       "      <td>50.000000</td>\n",
       "      <td>50.000000</td>\n",
       "      <td>45.000000</td>\n",
       "    </tr>\n",
       "    <tr>\n",
       "      <th>50%</th>\n",
       "      <td>70.000000</td>\n",
       "      <td>65.000000</td>\n",
       "      <td>65.000000</td>\n",
       "      <td>65.000000</td>\n",
       "      <td>64.000000</td>\n",
       "      <td>65.000000</td>\n",
       "    </tr>\n",
       "    <tr>\n",
       "      <th>75%</th>\n",
       "      <td>95.000000</td>\n",
       "      <td>90.000000</td>\n",
       "      <td>90.000000</td>\n",
       "      <td>85.000000</td>\n",
       "      <td>80.000000</td>\n",
       "      <td>85.000000</td>\n",
       "    </tr>\n",
       "    <tr>\n",
       "      <th>max</th>\n",
       "      <td>185.000000</td>\n",
       "      <td>230.000000</td>\n",
       "      <td>194.000000</td>\n",
       "      <td>230.000000</td>\n",
       "      <td>255.000000</td>\n",
       "      <td>180.000000</td>\n",
       "    </tr>\n",
       "  </tbody>\n",
       "</table>\n",
       "</div>"
      ],
      "text/plain": [
       "           attack     defense   sp_attack  sp_defense          hp       speed\n",
       "count  386.000000  386.000000  386.000000  386.000000  386.000000  386.000000\n",
       "mean    74.274611   71.417098   69.121762   69.795337   66.525907   65.639896\n",
       "std     32.599932   33.588335   32.296487   29.380744   28.237133   29.491225\n",
       "min      5.000000    5.000000   10.000000   20.000000    1.000000    5.000000\n",
       "25%     50.000000   50.000000   45.000000   50.000000   50.000000   45.000000\n",
       "50%     70.000000   65.000000   65.000000   65.000000   64.000000   65.000000\n",
       "75%     95.000000   90.000000   90.000000   85.000000   80.000000   85.000000\n",
       "max    185.000000  230.000000  194.000000  230.000000  255.000000  180.000000"
      ]
     },
     "execution_count": 103,
     "metadata": {},
     "output_type": "execute_result"
    }
   ],
   "source": [
    "df.describe()"
   ]
  },
  {
   "cell_type": "markdown",
   "metadata": {},
   "source": [
    "#### Distribution"
   ]
  },
  {
   "cell_type": "code",
   "execution_count": 104,
   "metadata": {},
   "outputs": [
    {
     "data": {
      "image/png": "[encoded data removed]",
      "text/plain": [
       "<Figure size 1500x1000 with 6 Axes>"
      ]
     },
     "metadata": {},
     "output_type": "display_data"
    }
   ],
   "source": [
    "plt.figure(figsize=(15, 10))\n",
    "for i, column in enumerate(df.columns):\n",
    "    plt.subplot(3, 3, i + 1) \n",
    "    sns.histplot(df[column], bins=20, kde=True) \n",
    "    plt.title(f'{column}')\n",
    "    plt.xlabel(\"\")\n",
    "    plt.ylabel('Frequency')\n",
    "plt.tight_layout()\n",
    "plt.show()"
   ]
  },
  {
   "cell_type": "markdown",
   "metadata": {},
   "source": [
    "#### Data pre-processing"
   ]
  },
  {
   "cell_type": "code",
   "execution_count": 105,
   "metadata": {},
   "outputs": [],
   "source": [
    "columns_to_scale = ['attack', 'defense', 'sp_attack', 'sp_defense', 'hp', 'speed']\n",
    "scaler = StandardScaler()\n",
    "df[columns_to_scale] = scaler.fit_transform(df[columns_to_scale])"
   ]
  },
  {
   "cell_type": "markdown",
   "metadata": {},
   "source": [
    "### K-mean clustering"
   ]
  },
  {
   "cell_type": "code",
   "execution_count": 106,
   "metadata": {},
   "outputs": [],
   "source": [
    "k_values = range(1, 11)\n",
    "inertia = []\n",
    "for k in k_values:\n",
    "    kmeans = KMeans(n_clusters=k, random_state=42)  \n",
    "    kmeans.fit(df[columns_to_scale])\n",
    "    inertia.append(kmeans.inertia_) "
   ]
  },
  {
   "cell_type": "code",
   "execution_count": 107,
   "metadata": {},
   "outputs": [
    {
     "data": {
      "image/png": "[encoded data removed]",
      "text/plain": [
       "<Figure size 1000x600 with 1 Axes>"
      ]
     },
     "metadata": {},
     "output_type": "display_data"
    }
   ],
   "source": [
    "plt.figure(figsize=(10, 6))\n",
    "plt.plot(k_values, inertia, marker='o')\n",
    "plt.title('Elbow Method for optimal k')\n",
    "plt.xlabel('Number of Clusters (k)')\n",
    "plt.ylabel('Inertia (SSE)')\n",
    "plt.xticks(k_values)\n",
    "plt.show()"
   ]
  },
  {
   "cell_type": "code",
   "execution_count": 108,
   "metadata": {},
   "outputs": [
    {
     "name": "stdout",
     "output_type": "stream",
     "text": [
      "The optimal number of clusters: 3\n"
     ]
    }
   ],
   "source": [
    "kl = KneeLocator(range(1, 11), inertia, curve=\"convex\", direction=\"decreasing\")\n",
    "optimal_k = kl.elbow\n",
    "print(f\"The optimal number of clusters: {optimal_k}\")"
   ]
  },
  {
   "cell_type": "markdown",
   "metadata": {},
   "source": [
    "#### Evaluation"
   ]
  },
  {
   "cell_type": "code",
   "execution_count": 109,
   "metadata": {},
   "outputs": [],
   "source": [
    "kmeans = KMeans(n_clusters=optimal_k, init='k-means++', random_state=42)\n",
    "df['cluster'] = kmeans.fit_predict(df[columns_to_scale])"
   ]
  },
  {
   "cell_type": "code",
   "execution_count": 110,
   "metadata": {},
   "outputs": [
    {
     "name": "stdout",
     "output_type": "stream",
     "text": [
      "Silhouette Score for k = 3: 0.233\n"
     ]
    }
   ],
   "source": [
    "silhouette_avg = silhouette_score(df[columns_to_scale], df['cluster'])\n",
    "print(f'Silhouette Score for k = {optimal_k}: {silhouette_avg:.3f}')"
   ]
  },
  {
   "cell_type": "markdown",
   "metadata": {},
   "source": [
    "* The Silhouette Score closer to 1 means better-defined clusters, while the score closer to -1 indicates poor clustering or overlapping clusters\n",
    "* Silhouette Score of 0.233 indicates that the clustering is not very strong"
   ]
  },
  {
   "cell_type": "code",
   "execution_count": 111,
   "metadata": {},
   "outputs": [],
   "source": [
    "pca = PCA(n_components=2)\n",
    "reduced_data = pca.fit_transform(df[columns_to_scale])\n",
    "df_pca = pd.DataFrame(reduced_data, columns=['PC1', 'PC2'])\n",
    "# df_pca['cluster'] = kmeans.labels_\n",
    "df_pca.index = df.index"
   ]
  },
  {
   "cell_type": "code",
   "execution_count": 112,
   "metadata": {},
   "outputs": [],
   "source": [
    "df_details = pd.merge(df_pca, df['cluster'], left_index=True, right_index=True, how='inner')\n",
    "columns = ['name', 'pokedex_number', 'attack', 'defense', 'sp_attack', 'sp_defense', 'hp', 'speed', 'is_legendary']\n",
    "temp1 = df0.loc[condition_generation, columns].copy()\n",
    "temp1.set_index('pokedex_number', inplace=True)\n",
    "df_details = pd.merge(df_details, temp1, left_index=True, right_index=True, how='inner')"
   ]
  },
  {
   "cell_type": "code",
   "execution_count": 167,
   "metadata": {},
   "outputs": [
    {
     "data": {
      "text/plain": [
       "array(['1', '2', '0'], dtype=object)"
      ]
     },
     "execution_count": 167,
     "metadata": {},
     "output_type": "execute_result"
    }
   ],
   "source": [
    "df_details['cluster'].astype(str).unique()"
   ]
  },
  {
   "cell_type": "code",
   "execution_count": 168,
   "metadata": {},
   "outputs": [],
   "source": [
    "def interactive_plot(dataframe):\n",
    "    temp_df = dataframe.reset_index(drop=False)\n",
    "    temp_df['cluster'] = temp_df['cluster'].astype(str)\n",
    "    cluster_order = np.sort(temp_df['cluster'].unique())\n",
    "    fig = px.scatter(\n",
    "        temp_df,\n",
    "        x='PC1',\n",
    "        y='PC2',\n",
    "        color='cluster',\n",
    "        category_orders={'cluster': cluster_order},   \n",
    "        hover_name='name',\n",
    "        hover_data={\n",
    "            'pokedex_number': True,\n",
    "            'attack': True,\n",
    "            'defense': True,\n",
    "            'sp_attack': True,\n",
    "            'sp_defense': True,\n",
    "            'hp': True,\n",
    "            'speed': True,\n",
    "            'is_legendary': True,\n",
    "        },\n",
    "        title='PCA of Pokémon Clusters',\n",
    "        labels={'PC1': 'Principal Component 1', 'PC2': 'Principal Component 2'},)\n",
    "    fig.show()"
   ]
  },
  {
   "cell_type": "code",
   "execution_count": 169,
   "metadata": {},
   "outputs": [
    {
     "data": {
      "application/vnd.plotly.v1+json": {
       "config": {
        "plotlyServerURL": "https://plot.ly"
       },
       "data": [
        {
         "customdata": [
          [
           3,
           100,
           123,
           122,
           120,
           80,
           80,
           0
          ],
          [
           6,
           104,
           78,
           159,
           115,
           78,
           100,
           0
          ],
          [
           9,
           103,
           120,
           135,
           115,
           79,
           78,
           0
          ],
          [
           15,
           150,
           40,
           15,
           80,
           65,
           145,
           0
          ],
          [
           18,
           80,
           80,
           135,
           80,
           83,
           121,
           0
          ],
          [
           22,
           90,
           65,
           61,
           61,
           65,
           100,
           0
          ],
          [
           26,
           85,
           50,
           95,
           85,
           60,
           110,
           0
          ],
          [
           34,
           102,
           77,
           85,
           75,
           81,
           85,
           0
          ],
          [
           38,
           67,
           75,
           81,
           100,
           73,
           109,
           0
          ],
          [
           49,
           65,
           60,
           90,
           75,
           70,
           90,
           0
          ],
          [
           51,
           100,
           60,
           50,
           70,
           35,
           110,
           0
          ],
          [
           53,
           60,
           60,
           75,
           65,
           65,
           115,
           0
          ],
          [
           55,
           82,
           78,
           95,
           80,
           80,
           85,
           0
          ],
          [
           57,
           105,
           60,
           60,
           70,
           65,
           95,
           0
          ],
          [
           59,
           110,
           80,
           100,
           80,
           90,
           95,
           0
          ],
          [
           65,
           50,
           65,
           175,
           105,
           55,
           150,
           0
          ],
          [
           71,
           105,
           65,
           100,
           70,
           80,
           70,
           0
          ],
          [
           73,
           70,
           65,
           80,
           120,
           80,
           100,
           0
          ],
          [
           78,
           100,
           70,
           80,
           80,
           65,
           105,
           0
          ],
          [
           85,
           110,
           70,
           60,
           60,
           60,
           110,
           0
          ],
          [
           94,
           65,
           80,
           170,
           95,
           60,
           130,
           0
          ],
          [
           101,
           50,
           70,
           80,
           80,
           60,
           150,
           0
          ],
          [
           106,
           120,
           53,
           35,
           110,
           50,
           87,
           0
          ],
          [
           115,
           125,
           100,
           60,
           100,
           105,
           100,
           0
          ],
          [
           121,
           75,
           85,
           100,
           85,
           60,
           115,
           0
          ],
          [
           122,
           45,
           65,
           100,
           120,
           40,
           90,
           0
          ],
          [
           123,
           110,
           80,
           55,
           80,
           70,
           105,
           0
          ],
          [
           124,
           50,
           35,
           115,
           95,
           65,
           95,
           0
          ],
          [
           125,
           83,
           57,
           95,
           85,
           65,
           105,
           0
          ],
          [
           126,
           95,
           57,
           100,
           85,
           65,
           93,
           0
          ],
          [
           127,
           155,
           120,
           65,
           90,
           65,
           105,
           0
          ],
          [
           128,
           100,
           95,
           40,
           70,
           75,
           110,
           0
          ],
          [
           130,
           155,
           109,
           70,
           130,
           95,
           81,
           0
          ],
          [
           135,
           65,
           60,
           110,
           95,
           65,
           130,
           0
          ],
          [
           136,
           130,
           60,
           95,
           110,
           65,
           65,
           0
          ],
          [
           142,
           135,
           85,
           70,
           95,
           80,
           150,
           0
          ],
          [
           144,
           85,
           100,
           95,
           125,
           90,
           85,
           1
          ],
          [
           145,
           90,
           85,
           125,
           90,
           90,
           100,
           1
          ],
          [
           146,
           100,
           90,
           125,
           85,
           90,
           90,
           1
          ],
          [
           149,
           134,
           95,
           100,
           100,
           91,
           80,
           0
          ],
          [
           150,
           150,
           70,
           194,
           120,
           106,
           140,
           1
          ],
          [
           151,
           100,
           100,
           100,
           100,
           100,
           100,
           1
          ],
          [
           157,
           84,
           78,
           109,
           85,
           78,
           100,
           0
          ],
          [
           169,
           90,
           80,
           70,
           80,
           85,
           130,
           0
          ],
          [
           178,
           75,
           70,
           95,
           70,
           65,
           95,
           0
          ],
          [
           181,
           95,
           105,
           165,
           110,
           90,
           45,
           0
          ],
          [
           189,
           55,
           70,
           55,
           95,
           75,
           110,
           0
          ],
          [
           196,
           65,
           60,
           130,
           95,
           65,
           110,
           0
          ],
          [
           203,
           80,
           65,
           90,
           65,
           70,
           85,
           0
          ],
          [
           212,
           150,
           140,
           65,
           100,
           70,
           75,
           0
          ],
          [
           214,
           185,
           115,
           40,
           105,
           80,
           75,
           0
          ],
          [
           215,
           95,
           55,
           35,
           75,
           55,
           115,
           0
          ],
          [
           229,
           90,
           90,
           140,
           90,
           75,
           115,
           0
          ],
          [
           230,
           95,
           95,
           95,
           95,
           75,
           85,
           0
          ],
          [
           234,
           95,
           62,
           85,
           65,
           73,
           85,
           0
          ],
          [
           243,
           85,
           75,
           115,
           100,
           90,
           115,
           1
          ],
          [
           244,
           115,
           85,
           90,
           75,
           115,
           100,
           1
          ],
          [
           245,
           75,
           115,
           90,
           115,
           100,
           85,
           1
          ],
          [
           248,
           164,
           150,
           95,
           120,
           100,
           71,
           0
          ],
          [
           249,
           90,
           130,
           90,
           154,
           106,
           110,
           1
          ],
          [
           250,
           130,
           90,
           110,
           154,
           106,
           90,
           1
          ],
          [
           251,
           100,
           100,
           100,
           100,
           100,
           100,
           1
          ],
          [
           254,
           110,
           75,
           145,
           85,
           70,
           145,
           0
          ],
          [
           257,
           160,
           80,
           130,
           80,
           80,
           100,
           0
          ],
          [
           260,
           150,
           110,
           95,
           110,
           100,
           70,
           0
          ],
          [
           275,
           100,
           60,
           90,
           60,
           90,
           80,
           0
          ],
          [
           277,
           85,
           60,
           75,
           50,
           60,
           125,
           0
          ],
          [
           282,
           85,
           65,
           165,
           135,
           68,
           100,
           0
          ],
          [
           289,
           160,
           100,
           95,
           65,
           150,
           100,
           0
          ],
          [
           291,
           90,
           45,
           50,
           50,
           61,
           160,
           0
          ],
          [
           308,
           100,
           85,
           80,
           85,
           60,
           100,
           0
          ],
          [
           310,
           75,
           80,
           135,
           80,
           70,
           135,
           0
          ],
          [
           319,
           140,
           70,
           110,
           65,
           70,
           105,
           0
          ],
          [
           330,
           100,
           80,
           80,
           80,
           80,
           100,
           0
          ],
          [
           334,
           110,
           110,
           110,
           105,
           75,
           80,
           0
          ],
          [
           335,
           115,
           60,
           60,
           60,
           73,
           90,
           0
          ],
          [
           350,
           60,
           79,
           100,
           125,
           95,
           81,
           0
          ],
          [
           354,
           165,
           75,
           93,
           83,
           64,
           75,
           0
          ],
          [
           359,
           150,
           60,
           115,
           60,
           65,
           115,
           0
          ],
          [
           362,
           120,
           80,
           120,
           80,
           80,
           100,
           0
          ],
          [
           373,
           145,
           130,
           120,
           90,
           95,
           120,
           0
          ],
          [
           376,
           145,
           150,
           105,
           110,
           80,
           110,
           0
          ],
          [
           380,
           100,
           120,
           140,
           150,
           80,
           110,
           1
          ],
          [
           381,
           130,
           100,
           160,
           120,
           80,
           110,
           1
          ],
          [
           382,
           150,
           90,
           180,
           160,
           100,
           90,
           1
          ],
          [
           383,
           180,
           160,
           150,
           90,
           100,
           90,
           1
          ],
          [
           384,
           180,
           100,
           180,
           100,
           105,
           115,
           1
          ],
          [
           385,
           100,
           100,
           100,
           100,
           100,
           100,
           1
          ],
          [
           386,
           95,
           90,
           95,
           90,
           50,
           180,
           1
          ]
         ],
         "hovertemplate": "<b>%{hovertext}</b><br><br>cluster=0<br>Principal Component 1=%{x}<br>Principal Component 2=%{y}<br>pokedex_number=%{customdata[0]}<br>attack=%{customdata[1]}<br>defense=%{customdata[2]}<br>sp_attack=%{customdata[3]}<br>sp_defense=%{customdata[4]}<br>hp=%{customdata[5]}<br>speed=%{customdata[6]}<br>is_legendary=%{customdata[7]}<extra></extra>",
         "hovertext": [
          "Venusaur",
          "Charizard",
          "Blastoise",
          "Beedrill",
          "Pidgeot",
          "Fearow",
          "Raichu",
          "Nidoking",
          "Ninetales",
          "Venomoth",
          "Dugtrio",
          "Persian",
          "Golduck",
          "Primeape",
          "Arcanine",
          "Alakazam",
          "Victreebel",
          "Tentacruel",
          "Rapidash",
          "Dodrio",
          "Gengar",
          "Electrode",
          "Hitmonlee",
          "Kangaskhan",
          "Starmie",
          "Mr. Mime",
          "Scyther",
          "Jynx",
          "Electabuzz",
          "Magmar",
          "Pinsir",
          "Tauros",
          "Gyarados",
          "Jolteon",
          "Flareon",
          "Aerodactyl",
          "Articuno",
          "Zapdos",
          "Moltres",
          "Dragonite",
          "Mewtwo",
          "Mew",
          "Typhlosion",
          "Crobat",
          "Xatu",
          "Ampharos",
          "Jumpluff",
          "Espeon",
          "Girafarig",
          "Scizor",
          "Heracross",
          "Sneasel",
          "Houndoom",
          "Kingdra",
          "Stantler",
          "Raikou",
          "Entei",
          "Suicune",
          "Tyranitar",
          "Lugia",
          "Ho-Oh",
          "Celebi",
          "Sceptile",
          "Blaziken",
          "Swampert",
          "Shiftry",
          "Swellow",
          "Gardevoir",
          "Slaking",
          "Ninjask",
          "Medicham",
          "Manectric",
          "Sharpedo",
          "Flygon",
          "Altaria",
          "Zangoose",
          "Milotic",
          "Banette",
          "Absol",
          "Glalie",
          "Salamence",
          "Metagross",
          "Latias",
          "Latios",
          "Kyogre",
          "Groudon",
          "Rayquaza",
          "Jirachi",
          "Deoxys"
         ],
         "legendgroup": "0",
         "marker": {
          "color": "#636efa",
          "symbol": "circle"
         },
         "mode": "markers",
         "name": "0",
         "orientation": "v",
         "showlegend": true,
         "type": "scatter",
         "x": [
          2.8152705911413003,
          3.0152785396051964,
          2.8926770181948465,
          0.9476705120897378,
          2.0988045512080173,
          0.25170155049667065,
          0.9401113875144904,
          1.1441901513667887,
          1.162980717655136,
          0.4434713097884631,
          0.0675001180882859,
          0.21912888677485992,
          1.0936454777252118,
          0.47580838935445985,
          1.803095869388649,
          2.480458785843566,
          1.004216135045151,
          1.3860060349732681,
          1.07765605139863,
          0.6008908635658882,
          2.455949725298246,
          0.8390409481248069,
          0.6200859512748793,
          2.222316608228429,
          1.3205904017720729,
          0.7303570592260172,
          1.0300041774725806,
          0.6352064722601276,
          0.9956548940007459,
          1.0961082530301518,
          2.3322563119080746,
          0.802155931194017,
          3.02420065567617,
          1.4391170374852373,
          1.6258430178340233,
          2.5091496788395973,
          2.2285684633885348,
          2.1598998342706435,
          2.1590767267445243,
          2.4647123790777252,
          4.923008224567027,
          2.390457233159289,
          1.5450121329696715,
          1.434038253876344,
          0.6767406586282595,
          2.7275843560377684,
          0.5278516849271697,
          1.5000060860842308,
          0.48609123610099264,
          2.3729763223533547,
          2.4185146442405347,
          0.11049526224090775,
          2.4146193149774984,
          1.641657270933762,
          0.6226164055985107,
          2.1675885401398634,
          2.0644170730196385,
          2.148156460961695,
          3.7469158056780882,
          3.5033368436273267,
          3.6646205588072176,
          2.390457233159289,
          2.7862312848868256,
          2.8468575978472948,
          2.9378963369755233,
          0.8102092190695841,
          0.368873915055846,
          2.898227461246532,
          3.1815257930389835,
          0.31827597448377204,
          1.208430075460928,
          2.0290462750605545,
          1.8694125307314122,
          1.315774250581458,
          2.3325865141528435,
          0.4920903782975382,
          1.7411812841568688,
          1.9052883931229523,
          1.9361054050135955,
          2.158699518705777,
          3.6248847245152427,
          3.661986865606294,
          3.8594899395676965,
          3.8463362622815445,
          4.958950755757723,
          4.588522233306056,
          4.851013043802175,
          2.390457233159289,
          2.2652375441055304
         ],
         "xaxis": "x",
         "y": [
          -0.38115993897758926,
          1.2910222752080818,
          -0.23027232435403408,
          1.5129865518124106,
          1.680091232773394,
          0.8025896857464124,
          1.6320822620392221,
          0.30736939065701235,
          0.973034214689121,
          0.9960789935175571,
          1.0988273235567567,
          1.502259049032987,
          0.4671472998691617,
          0.6742317963983212,
          0.5461217792908544,
          3.238314728269469,
          0.3378569505487631,
          0.8207691170048123,
          0.9250962065041337,
          0.8806147744531208,
          2.3910130973769683,
          2.212283049106196,
          0.24382691892502925,
          -0.3182928684283847,
          1.211963280249271,
          1.1105286312617662,
          0.4164692405117492,
          1.8501823807599667,
          1.3713716500108786,
          1.0927347470071878,
          -0.39523072667228804,
          0.15399461614116972,
          -0.9879381929334158,
          2.101298452398065,
          0.10731544389262794,
          1.3279422914637073,
          -0.13561294728285084,
          0.8855846763609602,
          0.5355913688177869,
          -0.24342439730317725,
          2.376601439211542,
          0.22924017183807696,
          0.949276370048749,
          1.1615394022704155,
          0.9843150299448382,
          -0.4264919556606137,
          0.8718190774103528,
          1.8424686502428222,
          0.7574110793368827,
          -1.4925493113386086,
          -1.5174272443506784,
          1.0501070366761436,
          1.3802885678423504,
          0.08515598875485525,
          0.6805778417742503,
          1.301688184806838,
          0.33213052247456837,
          -0.4370292896061458,
          -1.7332453514980275,
          -0.34079617551537833,
          -0.04700404126513224,
          0.22924017183807696,
          2.3606292296603373,
          0.8167408045634642,
          -0.945202101080907,
          0.5573391272659292,
          1.7036479482693685,
          1.6575689081740006,
          -0.22808920392474344,
          2.504703278143937,
          0.5485451621218448,
          2.096146355543541,
          1.0894335295873345,
          0.5494103592129015,
          -0.2404709518050994,
          0.5047784890590438,
          0.2806369884890135,
          -0.00798697263620649,
          1.5549176833793705,
          0.8811941891267367,
          0.23134256172559745,
          -0.5026056611710802,
          0.46633913814698735,
          1.0025829524027154,
          0.6094635461558028,
          -0.8713459996164279,
          1.0482425313050026,
          0.22924017183807696,
          2.5396132415903434
         ],
         "yaxis": "y"
        },
        {
         "customdata": [
          [
           1,
           49,
           49,
           65,
           65,
           45,
           45,
           0
          ],
          [
           4,
           52,
           43,
           60,
           50,
           39,
           65,
           0
          ],
          [
           5,
           64,
           58,
           80,
           65,
           58,
           80,
           0
          ],
          [
           7,
           48,
           65,
           50,
           64,
           44,
           43,
           0
          ],
          [
           10,
           30,
           35,
           20,
           20,
           45,
           45,
           0
          ],
          [
           11,
           20,
           55,
           25,
           25,
           50,
           30,
           0
          ],
          [
           12,
           45,
           50,
           90,
           80,
           60,
           70,
           0
          ],
          [
           13,
           35,
           30,
           20,
           20,
           40,
           50,
           0
          ],
          [
           14,
           25,
           50,
           25,
           25,
           45,
           35,
           0
          ],
          [
           16,
           45,
           40,
           35,
           35,
           40,
           56,
           0
          ],
          [
           17,
           60,
           55,
           50,
           50,
           63,
           71,
           0
          ],
          [
           19,
           56,
           35,
           25,
           35,
           30,
           72,
           0
          ],
          [
           21,
           60,
           30,
           31,
           31,
           40,
           70,
           0
          ],
          [
           23,
           60,
           44,
           40,
           54,
           35,
           55,
           0
          ],
          [
           25,
           55,
           40,
           50,
           50,
           35,
           90,
           0
          ],
          [
           27,
           75,
           90,
           10,
           35,
           50,
           40,
           0
          ],
          [
           29,
           47,
           52,
           40,
           40,
           55,
           41,
           0
          ],
          [
           30,
           62,
           67,
           55,
           55,
           70,
           56,
           0
          ],
          [
           32,
           57,
           40,
           40,
           40,
           46,
           50,
           0
          ],
          [
           33,
           72,
           57,
           55,
           55,
           61,
           65,
           0
          ],
          [
           35,
           45,
           48,
           60,
           65,
           70,
           35,
           0
          ],
          [
           37,
           41,
           40,
           50,
           65,
           38,
           65,
           0
          ],
          [
           39,
           45,
           20,
           45,
           25,
           115,
           20,
           0
          ],
          [
           41,
           45,
           35,
           30,
           40,
           40,
           55,
           0
          ],
          [
           43,
           50,
           55,
           75,
           65,
           45,
           30,
           0
          ],
          [
           46,
           70,
           55,
           45,
           55,
           35,
           25,
           0
          ],
          [
           48,
           55,
           50,
           40,
           55,
           60,
           45,
           0
          ],
          [
           50,
           55,
           30,
           35,
           45,
           10,
           90,
           0
          ],
          [
           52,
           35,
           35,
           50,
           40,
           40,
           90,
           0
          ],
          [
           54,
           52,
           48,
           65,
           50,
           50,
           55,
           0
          ],
          [
           56,
           80,
           35,
           35,
           45,
           40,
           70,
           0
          ],
          [
           58,
           70,
           45,
           70,
           50,
           55,
           60,
           0
          ],
          [
           60,
           50,
           40,
           40,
           40,
           40,
           90,
           0
          ],
          [
           61,
           65,
           65,
           50,
           50,
           65,
           90,
           0
          ],
          [
           63,
           20,
           15,
           105,
           55,
           25,
           90,
           0
          ],
          [
           64,
           35,
           30,
           120,
           70,
           40,
           105,
           0
          ],
          [
           66,
           80,
           50,
           35,
           35,
           70,
           35,
           0
          ],
          [
           69,
           75,
           35,
           70,
           30,
           50,
           40,
           0
          ],
          [
           70,
           90,
           50,
           85,
           45,
           65,
           55,
           0
          ],
          [
           72,
           40,
           35,
           50,
           100,
           40,
           70,
           0
          ],
          [
           74,
           80,
           100,
           30,
           30,
           40,
           20,
           0
          ],
          [
           77,
           85,
           55,
           65,
           65,
           50,
           90,
           0
          ],
          [
           79,
           65,
           65,
           40,
           40,
           90,
           15,
           0
          ],
          [
           81,
           35,
           70,
           95,
           55,
           25,
           45,
           0
          ],
          [
           83,
           90,
           55,
           58,
           62,
           52,
           60,
           0
          ],
          [
           84,
           85,
           45,
           35,
           35,
           35,
           75,
           0
          ],
          [
           86,
           45,
           55,
           45,
           70,
           65,
           45,
           0
          ],
          [
           88,
           80,
           50,
           40,
           50,
           80,
           25,
           0
          ],
          [
           90,
           65,
           100,
           45,
           25,
           30,
           40,
           0
          ],
          [
           92,
           35,
           30,
           100,
           35,
           30,
           80,
           0
          ],
          [
           93,
           50,
           45,
           115,
           55,
           45,
           95,
           0
          ],
          [
           96,
           48,
           45,
           43,
           90,
           60,
           42,
           0
          ],
          [
           98,
           105,
           90,
           25,
           25,
           30,
           50,
           0
          ],
          [
           100,
           30,
           50,
           55,
           55,
           40,
           100,
           0
          ],
          [
           102,
           40,
           80,
           60,
           45,
           60,
           40,
           0
          ],
          [
           104,
           50,
           95,
           40,
           50,
           50,
           35,
           0
          ],
          [
           109,
           65,
           95,
           60,
           45,
           40,
           35,
           0
          ],
          [
           116,
           40,
           70,
           70,
           25,
           30,
           60,
           0
          ],
          [
           118,
           67,
           60,
           35,
           50,
           45,
           63,
           0
          ],
          [
           120,
           45,
           55,
           70,
           55,
           30,
           85,
           0
          ],
          [
           129,
           10,
           55,
           15,
           20,
           20,
           80,
           0
          ],
          [
           132,
           48,
           48,
           48,
           48,
           48,
           48,
           0
          ],
          [
           133,
           55,
           50,
           45,
           65,
           55,
           55,
           0
          ],
          [
           138,
           40,
           100,
           90,
           55,
           35,
           35,
           0
          ],
          [
           140,
           80,
           90,
           55,
           45,
           30,
           55,
           0
          ],
          [
           147,
           64,
           45,
           50,
           50,
           41,
           50,
           0
          ],
          [
           152,
           49,
           65,
           49,
           65,
           45,
           45,
           0
          ],
          [
           155,
           52,
           43,
           60,
           50,
           39,
           65,
           0
          ],
          [
           156,
           64,
           58,
           80,
           65,
           58,
           80,
           0
          ],
          [
           158,
           65,
           64,
           44,
           48,
           50,
           43,
           0
          ],
          [
           161,
           46,
           34,
           35,
           45,
           35,
           20,
           0
          ],
          [
           163,
           30,
           30,
           36,
           56,
           60,
           50,
           0
          ],
          [
           165,
           20,
           30,
           40,
           80,
           40,
           55,
           0
          ],
          [
           166,
           35,
           50,
           55,
           110,
           55,
           85,
           0
          ],
          [
           167,
           60,
           40,
           40,
           40,
           40,
           30,
           0
          ],
          [
           170,
           38,
           38,
           56,
           56,
           75,
           67,
           0
          ],
          [
           172,
           40,
           15,
           35,
           35,
           20,
           60,
           0
          ],
          [
           173,
           25,
           28,
           45,
           55,
           50,
           15,
           0
          ],
          [
           174,
           30,
           15,
           40,
           20,
           90,
           15,
           0
          ],
          [
           175,
           20,
           65,
           40,
           65,
           35,
           20,
           0
          ],
          [
           177,
           50,
           45,
           70,
           45,
           40,
           70,
           0
          ],
          [
           179,
           40,
           40,
           65,
           45,
           55,
           35,
           0
          ],
          [
           180,
           55,
           55,
           80,
           60,
           70,
           45,
           0
          ],
          [
           183,
           20,
           50,
           20,
           50,
           70,
           40,
           0
          ],
          [
           187,
           35,
           40,
           35,
           55,
           35,
           50,
           0
          ],
          [
           188,
           45,
           50,
           45,
           65,
           55,
           80,
           0
          ],
          [
           190,
           70,
           55,
           40,
           55,
           55,
           85,
           0
          ],
          [
           191,
           30,
           30,
           30,
           30,
           30,
           30,
           0
          ],
          [
           193,
           65,
           45,
           75,
           45,
           65,
           95,
           0
          ],
          [
           194,
           45,
           45,
           25,
           25,
           55,
           15,
           0
          ],
          [
           198,
           85,
           42,
           85,
           42,
           60,
           91,
           0
          ],
          [
           201,
           72,
           48,
           72,
           48,
           48,
           48,
           0
          ],
          [
           204,
           65,
           90,
           35,
           35,
           50,
           15,
           0
          ],
          [
           209,
           80,
           50,
           40,
           40,
           60,
           30,
           0
          ],
          [
           216,
           80,
           50,
           50,
           50,
           60,
           40,
           0
          ],
          [
           218,
           40,
           40,
           70,
           40,
           40,
           20,
           0
          ],
          [
           220,
           50,
           40,
           30,
           30,
           50,
           50,
           0
          ],
          [
           223,
           65,
           35,
           65,
           35,
           35,
           65,
           0
          ],
          [
           225,
           55,
           45,
           65,
           45,
           45,
           75,
           0
          ],
          [
           228,
           60,
           30,
           80,
           50,
           45,
           65,
           0
          ],
          [
           231,
           60,
           60,
           40,
           40,
           90,
           40,
           0
          ],
          [
           235,
           20,
           35,
           20,
           45,
           55,
           75,
           0
          ],
          [
           236,
           35,
           35,
           35,
           35,
           35,
           35,
           0
          ],
          [
           238,
           30,
           15,
           85,
           65,
           45,
           65,
           0
          ],
          [
           239,
           63,
           37,
           65,
           55,
           45,
           95,
           0
          ],
          [
           240,
           75,
           37,
           70,
           55,
           45,
           83,
           0
          ],
          [
           246,
           64,
           50,
           45,
           50,
           50,
           41,
           0
          ],
          [
           252,
           45,
           35,
           65,
           55,
           40,
           70,
           0
          ],
          [
           253,
           65,
           45,
           85,
           65,
           50,
           95,
           0
          ],
          [
           255,
           60,
           40,
           70,
           50,
           45,
           45,
           0
          ],
          [
           258,
           70,
           50,
           50,
           50,
           50,
           40,
           0
          ],
          [
           261,
           55,
           35,
           30,
           30,
           35,
           35,
           0
          ],
          [
           263,
           30,
           41,
           30,
           41,
           38,
           60,
           0
          ],
          [
           265,
           45,
           35,
           20,
           30,
           45,
           20,
           0
          ],
          [
           266,
           35,
           55,
           25,
           25,
           50,
           15,
           0
          ],
          [
           267,
           70,
           50,
           100,
           50,
           60,
           65,
           0
          ],
          [
           268,
           35,
           55,
           25,
           25,
           50,
           15,
           0
          ],
          [
           270,
           30,
           30,
           40,
           50,
           40,
           30,
           0
          ],
          [
           271,
           50,
           50,
           60,
           70,
           60,
           50,
           0
          ],
          [
           273,
           40,
           50,
           30,
           30,
           40,
           30,
           0
          ],
          [
           274,
           70,
           40,
           60,
           40,
           70,
           60,
           0
          ],
          [
           276,
           55,
           30,
           30,
           30,
           40,
           85,
           0
          ],
          [
           278,
           30,
           30,
           55,
           30,
           40,
           85,
           0
          ],
          [
           280,
           25,
           25,
           45,
           35,
           28,
           40,
           0
          ],
          [
           281,
           35,
           35,
           65,
           55,
           38,
           50,
           0
          ],
          [
           283,
           30,
           32,
           50,
           52,
           40,
           65,
           0
          ],
          [
           285,
           40,
           60,
           40,
           60,
           60,
           35,
           0
          ],
          [
           287,
           60,
           60,
           35,
           35,
           60,
           30,
           0
          ],
          [
           290,
           45,
           90,
           30,
           30,
           31,
           40,
           0
          ],
          [
           292,
           90,
           45,
           30,
           30,
           1,
           40,
           0
          ],
          [
           293,
           51,
           23,
           51,
           23,
           64,
           28,
           0
          ],
          [
           294,
           71,
           43,
           71,
           43,
           84,
           48,
           0
          ],
          [
           296,
           60,
           30,
           20,
           30,
           72,
           25,
           0
          ],
          [
           298,
           20,
           40,
           20,
           40,
           50,
           20,
           0
          ],
          [
           300,
           45,
           45,
           35,
           35,
           50,
           50,
           0
          ],
          [
           301,
           65,
           65,
           55,
           55,
           70,
           90,
           0
          ],
          [
           304,
           70,
           100,
           40,
           40,
           50,
           30,
           0
          ],
          [
           307,
           40,
           55,
           40,
           55,
           30,
           60,
           0
          ],
          [
           309,
           45,
           40,
           65,
           40,
           40,
           65,
           0
          ],
          [
           311,
           50,
           40,
           85,
           75,
           60,
           95,
           0
          ],
          [
           312,
           40,
           50,
           75,
           85,
           60,
           95,
           0
          ],
          [
           315,
           60,
           45,
           100,
           80,
           50,
           65,
           0
          ],
          [
           316,
           43,
           53,
           43,
           53,
           70,
           40,
           0
          ],
          [
           318,
           90,
           20,
           65,
           20,
           45,
           65,
           0
          ],
          [
           322,
           60,
           40,
           65,
           45,
           60,
           35,
           0
          ],
          [
           325,
           25,
           35,
           70,
           80,
           60,
           60,
           0
          ],
          [
           327,
           60,
           60,
           60,
           60,
           60,
           60,
           0
          ],
          [
           328,
           100,
           45,
           45,
           45,
           45,
           10,
           0
          ],
          [
           329,
           70,
           50,
           50,
           50,
           50,
           70,
           0
          ],
          [
           331,
           85,
           40,
           85,
           40,
           50,
           35,
           0
          ],
          [
           333,
           40,
           60,
           40,
           75,
           45,
           50,
           0
          ],
          [
           339,
           48,
           43,
           46,
           41,
           50,
           60,
           0
          ],
          [
           341,
           80,
           65,
           50,
           35,
           43,
           35,
           0
          ],
          [
           343,
           40,
           55,
           40,
           70,
           40,
           55,
           0
          ],
          [
           347,
           95,
           50,
           40,
           50,
           45,
           75,
           0
          ],
          [
           349,
           15,
           20,
           10,
           55,
           20,
           80,
           0
          ],
          [
           353,
           75,
           35,
           63,
           33,
           44,
           45,
           0
          ],
          [
           355,
           40,
           90,
           30,
           90,
           20,
           25,
           0
          ],
          [
           360,
           23,
           48,
           23,
           48,
           95,
           23,
           0
          ],
          [
           361,
           50,
           50,
           50,
           50,
           50,
           50,
           0
          ],
          [
           363,
           40,
           50,
           55,
           50,
           70,
           25,
           0
          ],
          [
           366,
           64,
           85,
           74,
           55,
           35,
           32,
           0
          ],
          [
           370,
           30,
           55,
           40,
           65,
           43,
           97,
           0
          ],
          [
           371,
           75,
           60,
           40,
           30,
           45,
           50,
           0
          ],
          [
           374,
           55,
           80,
           35,
           60,
           40,
           30,
           0
          ]
         ],
         "hovertemplate": "<b>%{hovertext}</b><br><br>cluster=1<br>Principal Component 1=%{x}<br>Principal Component 2=%{y}<br>pokedex_number=%{customdata[0]}<br>attack=%{customdata[1]}<br>defense=%{customdata[2]}<br>sp_attack=%{customdata[3]}<br>sp_defense=%{customdata[4]}<br>hp=%{customdata[5]}<br>speed=%{customdata[6]}<br>is_legendary=%{customdata[7]}<extra></extra>",
         "hovertext": [
          "Bulbasaur",
          "Charmander",
          "Charmeleon",
          "Squirtle",
          "Caterpie",
          "Metapod",
          "Butterfree",
          "Weedle",
          "Kakuna",
          "Pidgey",
          "Pidgeotto",
          "Rattata",
          "Spearow",
          "Ekans",
          "Pikachu",
          "Sandshrew",
          "Nidoran♀",
          "Nidorina",
          "Nidoran♂",
          "Nidorino",
          "Clefairy",
          "Vulpix",
          "Jigglypuff",
          "Zubat",
          "Oddish",
          "Paras",
          "Venonat",
          "Diglett",
          "Meowth",
          "Psyduck",
          "Mankey",
          "Growlithe",
          "Poliwag",
          "Poliwhirl",
          "Abra",
          "Kadabra",
          "Machop",
          "Bellsprout",
          "Weepinbell",
          "Tentacool",
          "Geodude",
          "Ponyta",
          "Slowpoke",
          "Magnemite",
          "Farfetch'd",
          "Doduo",
          "Seel",
          "Grimer",
          "Shellder",
          "Gastly",
          "Haunter",
          "Drowzee",
          "Krabby",
          "Voltorb",
          "Exeggcute",
          "Cubone",
          "Koffing",
          "Horsea",
          "Goldeen",
          "Staryu",
          "Magikarp",
          "Ditto",
          "Eevee",
          "Omanyte",
          "Kabuto",
          "Dratini",
          "Chikorita",
          "Cyndaquil",
          "Quilava",
          "Totodile",
          "Sentret",
          "Hoothoot",
          "Ledyba",
          "Ledian",
          "Spinarak",
          "Chinchou",
          "Pichu",
          "Cleffa",
          "Igglybuff",
          "Togepi",
          "Natu",
          "Mareep",
          "Flaaffy",
          "Marill",
          "Hoppip",
          "Skiploom",
          "Aipom",
          "Sunkern",
          "Yanma",
          "Wooper",
          "Murkrow",
          "Unown",
          "Pineco",
          "Snubbull",
          "Teddiursa",
          "Slugma",
          "Swinub",
          "Remoraid",
          "Delibird",
          "Houndour",
          "Phanpy",
          "Smeargle",
          "Tyrogue",
          "Smoochum",
          "Elekid",
          "Magby",
          "Larvitar",
          "Treecko",
          "Grovyle",
          "Torchic",
          "Mudkip",
          "Poochyena",
          "Zigzagoon",
          "Wurmple",
          "Silcoon",
          "Beautifly",
          "Cascoon",
          "Lotad",
          "Lombre",
          "Seedot",
          "Nuzleaf",
          "Taillow",
          "Wingull",
          "Ralts",
          "Kirlia",
          "Surskit",
          "Shroomish",
          "Slakoth",
          "Nincada",
          "Shedinja",
          "Whismur",
          "Loudred",
          "Makuhita",
          "Azurill",
          "Skitty",
          "Delcatty",
          "Aron",
          "Meditite",
          "Electrike",
          "Plusle",
          "Minun",
          "Roselia",
          "Gulpin",
          "Carvanha",
          "Numel",
          "Spoink",
          "Spinda",
          "Trapinch",
          "Vibrava",
          "Cacnea",
          "Swablu",
          "Barboach",
          "Corphish",
          "Baltoy",
          "Anorith",
          "Feebas",
          "Shuppet",
          "Duskull",
          "Wynaut",
          "Snorunt",
          "Spheal",
          "Clamperl",
          "Luvdisc",
          "Bagon",
          "Beldum"
         ],
         "legendgroup": "1",
         "marker": {
          "color": "#EF553B",
          "symbol": "circle"
         },
         "mode": "markers",
         "name": "1",
         "orientation": "v",
         "showlegend": true,
         "type": "scatter",
         "x": [
          -1.224268621759483,
          -1.4127766274961373,
          -0.15492682587379417,
          -1.3243733554136405,
          -3.0078699106872993,
          -2.876767796211467,
          -0.20591709708906047,
          -3.0002293273439657,
          -2.8691272128681335,
          -2.229064856482836,
          -0.9527963200889326,
          -2.219766147457096,
          -2.1004990261109953,
          -1.6737759383203932,
          -1.3163272852552457,
          -1.6770480356371393,
          -1.9014202806324116,
          -0.7226721198637129,
          -1.907419159884297,
          -0.7064092031811899,
          -1.1685581209340017,
          -1.5085284508529615,
          -1.9600050391437196,
          -2.2863891161059158,
          -1.1694394298115074,
          -1.6637531213252088,
          -1.4663657145986932,
          -2.026980953671183,
          -1.745451381172971,
          -1.2638508438121852,
          -1.488771878593371,
          -0.8634543078542655,
          -1.6277129157334926,
          -0.5359457811633508,
          -1.3292234756723882,
          -0.15047531490368962,
          -1.510001942209029,
          -1.514884734705166,
          -0.33613657393646756,
          -0.9317862078827146,
          -1.639348927845434,
          -0.10109210937006859,
          -1.3759489212170688,
          -1.1593134749509613,
          -0.4930077111985682,
          -1.4757723739548916,
          -1.1724980670585836,
          -1.1865138729948692,
          -1.6087059610047356,
          -1.4032541148576791,
          -0.14370367998252062,
          -1.0427562808217334,
          -1.3473563735796494,
          -1.2209381959949874,
          -1.269641290312967,
          -1.348464842444045,
          -1.0615011288612175,
          -1.703167341987025,
          -1.3245349394545614,
          -1.0369059197653243,
          -3.0417917712374143,
          -1.6958697241721996,
          -1.1823646846423543,
          -0.8186289597538616,
          -0.8815424265431682,
          -1.5130975103065745,
          -1.274218244480126,
          -1.4127766274961373,
          -0.15492682587379417,
          -1.3745547463867251,
          -2.5850538566697843,
          -2.0148118476771626,
          -1.8941170350109817,
          -0.24918310772745797,
          -2.163803086853918,
          -1.1581918065695498,
          -2.7745088800554116,
          -2.5073540401431234,
          -2.733129678113566,
          -2.2001830567492826,
          -1.2878396093195714,
          -1.7606051816171469,
          -0.6378985056349227,
          -2.243790753815451,
          -2.170463422883786,
          -1.03856490702725,
          -0.8187181117607264,
          -3.1103675170946374,
          -0.42700579514630965,
          -2.7542318796840117,
          -0.19932048959974946,
          -1.0264253877168865,
          -1.7373443712056658,
          -1.5358778754843265,
          -1.1196628638260118,
          -2.121118867444066,
          -2.2582763665791483,
          -1.5443971342170832,
          -1.1739078135449328,
          -1.090156914552185,
          -1.2195998102793524,
          -2.282116808221915,
          -2.7174514635050713,
          -1.3526727537564518,
          -0.7680583928699356,
          -0.6676050338405298,
          -1.5198710174440746,
          -1.3770116108735522,
          -0.14411990914528264,
          -1.3455413678984847,
          -1.3779709796747857,
          -2.5967021919132183,
          -2.376393352077126,
          -2.9218613169308494,
          -2.8402807810949886,
          -0.2632256168486792,
          -2.8402807810949886,
          -2.522730457264846,
          -0.9510662429065814,
          -2.6294414419017764,
          -1.0403901354783944,
          -2.030991599118743,
          -2.0156919802307987,
          -2.851929439507517,
          -1.7619652902430192,
          -1.9333298643100862,
          -1.5909488998690406,
          -1.8494502094895016,
          -2.1136291530603732,
          -2.3663865617513813,
          -2.323598189723183,
          -0.7519339753649187,
          -2.3877315847694294,
          -2.9846711599093245,
          -2.1187596788590777,
          -0.3229295253549151,
          -1.2376410929728816,
          -1.8128996484736677,
          -1.6198054281433847,
          -0.12088085071278079,
          -0.1269024630175308,
          -0.0923745778947148,
          -1.5203658730136207,
          -1.4908478407198529,
          -1.4268396542168578,
          -1.0428338165495026,
          -0.7528711955572405,
          -1.573667695086286,
          -1.041722070955939,
          -1.0034682943167619,
          -1.3632683274874957,
          -1.7342732391379148,
          -1.4583784996273608,
          -1.5046338414092562,
          -0.8481391990144929,
          -2.8688172051219363,
          -1.5832714128844312,
          -1.5144206577855672,
          -2.1004827917807787,
          -1.5387033027363728,
          -1.6402536869867788,
          -0.9198829591682817,
          -1.2145251487671471,
          -1.6130620323351976,
          -1.53482564183476
         ],
         "xaxis": "x",
         "y": [
          0.11389582060504413,
          0.7027610423009745,
          0.7932362323302151,
          -0.3646303397225073,
          0.11933788895051903,
          -0.5391217940371273,
          0.8305390086125481,
          0.3313603552954838,
          -0.3270993276921625,
          0.35801146415751633,
          0.36286230523036367,
          0.7237579342709818,
          0.7728325580588262,
          0.21806871148987805,
          1.2447380662055338,
          -1.3556264470529926,
          -0.259241011808888,
          -0.2124129378005427,
          0.1722688923877019,
          0.183043050030531,
          -0.2678298456351116,
          0.6573911065754198,
          -0.37994041429309455,
          0.35712947264259587,
          -0.2446011930513394,
          -0.6737288430366452,
          -0.23676744678938413,
          1.415855479960212,
          1.4242122590190782,
          0.37349115185247106,
          0.5961850063844123,
          0.49424133678925714,
          1.1669033151744108,
          0.5945353904022547,
          2.4516259503481774,
          2.4984540243565228,
          -0.6172496888002015,
          0.2755477795640943,
          0.3223758535724397,
          0.7482375331254721,
          -1.747637850213538,
          0.8782681324957885,
          -1.3599337974746035,
          0.24258851397927286,
          0.08306504181176746,
          0.5691500770200272,
          -0.30604287293890337,
          -0.89815809976601,
          -0.9934813495881267,
          1.8690892039068838,
          1.900243789399218,
          -0.26569167740261074,
          -0.9562562639293232,
          1.4132638801827444,
          -0.5917610096772582,
          -1.1921963938841964,
          -0.9792164981049999,
          0.37945597090241706,
          -0.005042415434595536,
          1.1183071322325804,
          0.7391669464675705,
          0.0669028486091467,
          0.04354075735324648,
          -0.6571682321259141,
          -0.4849470009435624,
          0.1515460329597926,
          -0.34094032046558703,
          0.7027610423009745,
          0.7932362323302151,
          -0.4619269129296306,
          -0.38345386967495687,
          0.3010300146510656,
          0.5311646060853842,
          0.790964284760683,
          -0.2757182270669068,
          0.6492322145497152,
          1.0280527128959926,
          -0.3096127515074791,
          -0.2484925922309224,
          -0.8434853701455777,
          0.9062682399309293,
          0.09084563767894194,
          0.020964757977694832,
          -0.45088112379373324,
          0.22361663395285677,
          0.6691996236274174,
          0.5698340159689371,
          0.010709159799132261,
          1.3474645121369286,
          -0.840500088238532,
          1.3635928983009673,
          0.21543622928599707,
          -1.6370496020208374,
          -0.6451590866856508,
          -0.3390851499569247,
          -0.11289892000898392,
          0.10810411501875804,
          0.9122389659055313,
          0.9236828710219495,
          1.079943308477366,
          -0.6651971891497466,
          0.7308667251848548,
          0.026318517801914066,
          1.481671012020113,
          1.469696096109395,
          1.1910591931057042,
          -0.24789076485448108,
          1.0242463904188115,
          1.4674808761685065,
          0.32883490546985206,
          -0.24449951106134332,
          -0.09423769230527446,
          0.4362074343756252,
          -0.5587250032187784,
          -0.9524198017552179,
          0.8065887480250626,
          -0.9524198017552179,
          -0.0004533290927207453,
          0.06198410291840631,
          -0.44441564275161144,
          0.4330127866394478,
          1.1367508651197538,
          1.5020436252891842,
          0.5061442362254207,
          0.6100189815405253,
          0.8781890414440685,
          -0.6029572779628478,
          -0.7775284877155848,
          -0.9059087244534206,
          -0.12679442248912842,
          0.06372063763339528,
          0.1261580696445225,
          -0.5567255663420144,
          -0.6011572974337548,
          0.07535438762284245,
          0.6046276344723391,
          -1.4519213569279754,
          0.24381039352303308,
          0.8644231113434614,
          1.5369682954702162,
          1.2634628279952589,
          0.8972682467383685,
          -0.3720216016362992,
          1.0719070187100412,
          -0.01961832835816214,
          0.7437476567040264,
          0.10436530781582287,
          -0.9910529796538186,
          0.455754211196211,
          0.1512474696948254,
          -0.22114357062804488,
          0.4277871028461872,
          -0.5899763908719229,
          0.02760943309603531,
          0.38941068483340396,
          1.1873375112181417,
          0.34153346042660937,
          -1.3653417036249156,
          -0.9179804349732514,
          0.07314659181025938,
          -0.521225658179457,
          -0.7242678762997006,
          1.0500107681480197,
          -0.22748151602567732,
          -1.0904349627489527
         ],
         "yaxis": "y"
        },
        {
         "customdata": [
          [
           2,
           62,
           63,
           80,
           80,
           60,
           60,
           0
          ],
          [
           8,
           63,
           80,
           65,
           80,
           59,
           58,
           0
          ],
          [
           20,
           71,
           70,
           40,
           80,
           75,
           77,
           0
          ],
          [
           24,
           95,
           69,
           65,
           79,
           60,
           80,
           0
          ],
          [
           28,
           100,
           120,
           25,
           65,
           75,
           65,
           0
          ],
          [
           31,
           92,
           87,
           75,
           85,
           90,
           76,
           0
          ],
          [
           36,
           70,
           73,
           95,
           90,
           95,
           60,
           0
          ],
          [
           40,
           70,
           45,
           85,
           50,
           140,
           45,
           0
          ],
          [
           42,
           80,
           70,
           65,
           75,
           75,
           90,
           0
          ],
          [
           44,
           65,
           70,
           85,
           75,
           60,
           40,
           0
          ],
          [
           45,
           80,
           85,
           110,
           90,
           75,
           50,
           0
          ],
          [
           47,
           95,
           80,
           60,
           80,
           60,
           30,
           0
          ],
          [
           62,
           95,
           95,
           70,
           90,
           90,
           70,
           0
          ],
          [
           67,
           100,
           70,
           50,
           60,
           80,
           45,
           0
          ],
          [
           68,
           130,
           80,
           65,
           85,
           90,
           55,
           0
          ],
          [
           75,
           95,
           115,
           45,
           45,
           55,
           35,
           0
          ],
          [
           76,
           120,
           130,
           55,
           65,
           80,
           45,
           0
          ],
          [
           80,
           75,
           180,
           130,
           80,
           95,
           30,
           0
          ],
          [
           82,
           60,
           95,
           120,
           70,
           50,
           70,
           0
          ],
          [
           87,
           70,
           80,
           70,
           95,
           90,
           70,
           0
          ],
          [
           89,
           105,
           75,
           65,
           100,
           105,
           50,
           0
          ],
          [
           91,
           95,
           180,
           85,
           45,
           50,
           70,
           0
          ],
          [
           95,
           45,
           160,
           30,
           45,
           35,
           70,
           0
          ],
          [
           97,
           73,
           70,
           73,
           115,
           85,
           67,
           0
          ],
          [
           99,
           130,
           115,
           50,
           50,
           55,
           75,
           0
          ],
          [
           103,
           105,
           85,
           125,
           75,
           95,
           45,
           0
          ],
          [
           105,
           80,
           110,
           50,
           80,
           60,
           45,
           0
          ],
          [
           107,
           105,
           79,
           35,
           110,
           50,
           76,
           0
          ],
          [
           108,
           55,
           75,
           60,
           75,
           90,
           30,
           0
          ],
          [
           110,
           90,
           120,
           85,
           70,
           65,
           60,
           0
          ],
          [
           111,
           85,
           95,
           30,
           30,
           80,
           25,
           0
          ],
          [
           112,
           130,
           120,
           45,
           45,
           105,
           40,
           0
          ],
          [
           113,
           5,
           5,
           35,
           105,
           250,
           50,
           0
          ],
          [
           114,
           55,
           115,
           100,
           40,
           65,
           60,
           0
          ],
          [
           117,
           65,
           95,
           95,
           45,
           55,
           85,
           0
          ],
          [
           119,
           92,
           65,
           65,
           80,
           80,
           68,
           0
          ],
          [
           131,
           85,
           80,
           85,
           95,
           130,
           60,
           0
          ],
          [
           134,
           65,
           60,
           110,
           95,
           130,
           65,
           0
          ],
          [
           137,
           60,
           70,
           85,
           75,
           65,
           40,
           0
          ],
          [
           139,
           60,
           125,
           115,
           70,
           70,
           55,
           0
          ],
          [
           141,
           115,
           105,
           65,
           70,
           60,
           80,
           0
          ],
          [
           143,
           110,
           65,
           65,
           110,
           160,
           30,
           0
          ],
          [
           148,
           84,
           65,
           70,
           70,
           61,
           70,
           0
          ],
          [
           153,
           62,
           80,
           63,
           80,
           60,
           60,
           0
          ],
          [
           154,
           82,
           100,
           83,
           100,
           80,
           80,
           0
          ],
          [
           159,
           80,
           80,
           59,
           63,
           65,
           58,
           0
          ],
          [
           160,
           105,
           100,
           79,
           83,
           85,
           78,
           0
          ],
          [
           162,
           76,
           64,
           45,
           55,
           85,
           90,
           0
          ],
          [
           164,
           50,
           50,
           86,
           96,
           100,
           70,
           0
          ],
          [
           168,
           90,
           70,
           60,
           70,
           70,
           40,
           0
          ],
          [
           171,
           58,
           58,
           76,
           76,
           125,
           67,
           0
          ],
          [
           176,
           40,
           85,
           80,
           105,
           55,
           40,
           0
          ],
          [
           182,
           80,
           95,
           90,
           100,
           75,
           50,
           0
          ],
          [
           184,
           50,
           80,
           60,
           80,
           100,
           50,
           0
          ],
          [
           185,
           100,
           115,
           30,
           65,
           70,
           30,
           0
          ],
          [
           186,
           75,
           75,
           90,
           100,
           90,
           70,
           0
          ],
          [
           192,
           75,
           55,
           105,
           85,
           75,
           30,
           0
          ],
          [
           195,
           85,
           85,
           65,
           65,
           95,
           35,
           0
          ],
          [
           197,
           65,
           110,
           60,
           130,
           95,
           65,
           0
          ],
          [
           199,
           75,
           80,
           100,
           110,
           95,
           30,
           0
          ],
          [
           200,
           60,
           60,
           85,
           85,
           60,
           85,
           0
          ],
          [
           202,
           33,
           58,
           33,
           58,
           190,
           33,
           0
          ],
          [
           205,
           90,
           140,
           60,
           60,
           75,
           40,
           0
          ],
          [
           206,
           70,
           70,
           65,
           65,
           100,
           45,
           0
          ],
          [
           207,
           75,
           105,
           35,
           65,
           65,
           85,
           0
          ],
          [
           208,
           125,
           230,
           55,
           95,
           75,
           30,
           0
          ],
          [
           210,
           120,
           75,
           60,
           60,
           90,
           45,
           0
          ],
          [
           211,
           95,
           85,
           55,
           55,
           65,
           85,
           0
          ],
          [
           213,
           10,
           230,
           10,
           230,
           20,
           5,
           0
          ],
          [
           217,
           130,
           75,
           75,
           75,
           90,
           55,
           0
          ],
          [
           219,
           50,
           120,
           90,
           80,
           60,
           30,
           0
          ],
          [
           221,
           100,
           80,
           60,
           60,
           100,
           50,
           0
          ],
          [
           222,
           55,
           95,
           65,
           95,
           65,
           35,
           0
          ],
          [
           224,
           105,
           75,
           105,
           75,
           75,
           45,
           0
          ],
          [
           226,
           40,
           70,
           80,
           140,
           85,
           70,
           0
          ],
          [
           227,
           80,
           140,
           40,
           70,
           65,
           70,
           0
          ],
          [
           232,
           120,
           120,
           60,
           60,
           90,
           50,
           0
          ],
          [
           233,
           80,
           90,
           105,
           95,
           85,
           60,
           0
          ],
          [
           237,
           95,
           95,
           35,
           110,
           50,
           70,
           0
          ],
          [
           241,
           80,
           105,
           40,
           70,
           95,
           100,
           0
          ],
          [
           242,
           10,
           10,
           75,
           135,
           255,
           55,
           0
          ],
          [
           247,
           84,
           70,
           65,
           70,
           70,
           51,
           0
          ],
          [
           256,
           85,
           60,
           85,
           60,
           60,
           55,
           0
          ],
          [
           259,
           85,
           70,
           60,
           70,
           70,
           50,
           0
          ],
          [
           262,
           90,
           70,
           60,
           60,
           70,
           70,
           0
          ],
          [
           264,
           70,
           61,
           50,
           61,
           78,
           100,
           0
          ],
          [
           269,
           50,
           70,
           50,
           90,
           60,
           65,
           0
          ],
          [
           272,
           70,
           70,
           90,
           100,
           80,
           70,
           0
          ],
          [
           279,
           50,
           100,
           95,
           70,
           60,
           65,
           0
          ],
          [
           284,
           60,
           62,
           100,
           82,
           70,
           80,
           0
          ],
          [
           286,
           130,
           80,
           60,
           60,
           60,
           70,
           0
          ],
          [
           288,
           80,
           80,
           55,
           55,
           80,
           90,
           0
          ],
          [
           295,
           91,
           63,
           91,
           73,
           104,
           68,
           0
          ],
          [
           297,
           120,
           60,
           40,
           60,
           144,
           50,
           0
          ],
          [
           299,
           45,
           135,
           45,
           90,
           30,
           30,
           0
          ],
          [
           302,
           85,
           125,
           85,
           115,
           50,
           20,
           0
          ],
          [
           303,
           105,
           125,
           55,
           95,
           50,
           50,
           0
          ],
          [
           305,
           90,
           140,
           50,
           50,
           60,
           40,
           0
          ],
          [
           306,
           140,
           230,
           60,
           80,
           70,
           50,
           0
          ],
          [
           313,
           73,
           75,
           47,
           85,
           65,
           85,
           0
          ],
          [
           314,
           47,
           75,
           73,
           85,
           65,
           85,
           0
          ],
          [
           317,
           73,
           83,
           73,
           83,
           100,
           55,
           0
          ],
          [
           320,
           70,
           35,
           70,
           35,
           130,
           60,
           0
          ],
          [
           321,
           90,
           45,
           90,
           45,
           170,
           60,
           0
          ],
          [
           323,
           120,
           100,
           145,
           105,
           70,
           20,
           0
          ],
          [
           324,
           85,
           140,
           85,
           70,
           70,
           20,
           0
          ],
          [
           326,
           45,
           65,
           90,
           110,
           80,
           80,
           0
          ],
          [
           332,
           115,
           60,
           115,
           60,
           70,
           55,
           0
          ],
          [
           336,
           100,
           60,
           100,
           60,
           73,
           65,
           0
          ],
          [
           337,
           55,
           65,
           95,
           85,
           90,
           70,
           0
          ],
          [
           338,
           95,
           85,
           55,
           65,
           90,
           70,
           0
          ],
          [
           340,
           78,
           73,
           76,
           71,
           110,
           60,
           0
          ],
          [
           342,
           120,
           85,
           90,
           55,
           63,
           55,
           0
          ],
          [
           344,
           70,
           105,
           70,
           120,
           60,
           75,
           0
          ],
          [
           345,
           41,
           77,
           61,
           87,
           66,
           23,
           0
          ],
          [
           346,
           81,
           97,
           81,
           107,
           86,
           43,
           0
          ],
          [
           348,
           125,
           100,
           70,
           80,
           75,
           45,
           0
          ],
          [
           351,
           70,
           70,
           70,
           70,
           70,
           70,
           0
          ],
          [
           352,
           90,
           70,
           60,
           120,
           60,
           40,
           0
          ],
          [
           356,
           70,
           130,
           60,
           130,
           40,
           25,
           0
          ],
          [
           357,
           68,
           83,
           72,
           87,
           99,
           51,
           0
          ],
          [
           358,
           50,
           80,
           95,
           90,
           75,
           65,
           0
          ],
          [
           364,
           60,
           70,
           75,
           70,
           90,
           45,
           0
          ],
          [
           365,
           80,
           90,
           95,
           90,
           110,
           65,
           0
          ],
          [
           367,
           104,
           105,
           94,
           75,
           55,
           52,
           0
          ],
          [
           368,
           84,
           105,
           114,
           75,
           55,
           52,
           0
          ],
          [
           369,
           90,
           130,
           45,
           65,
           100,
           55,
           0
          ],
          [
           372,
           95,
           100,
           60,
           50,
           65,
           50,
           0
          ],
          [
           375,
           75,
           100,
           55,
           80,
           60,
           50,
           0
          ],
          [
           377,
           100,
           200,
           50,
           100,
           80,
           50,
           1
          ],
          [
           378,
           50,
           100,
           100,
           200,
           80,
           50,
           1
          ],
          [
           379,
           75,
           150,
           75,
           150,
           80,
           50,
           1
          ]
         ],
         "hovertemplate": "<b>%{hovertext}</b><br><br>cluster=2<br>Principal Component 1=%{x}<br>Principal Component 2=%{y}<br>pokedex_number=%{customdata[0]}<br>attack=%{customdata[1]}<br>defense=%{customdata[2]}<br>sp_attack=%{customdata[3]}<br>sp_defense=%{customdata[4]}<br>hp=%{customdata[5]}<br>speed=%{customdata[6]}<br>is_legendary=%{customdata[7]}<extra></extra>",
         "hovertext": [
          "Ivysaur",
          "Wartortle",
          "Raticate",
          "Arbok",
          "Sandslash",
          "Nidoqueen",
          "Clefable",
          "Wigglytuff",
          "Golbat",
          "Gloom",
          "Vileplume",
          "Parasect",
          "Poliwrath",
          "Machoke",
          "Machamp",
          "Graveler",
          "Golem",
          "Slowbro",
          "Magneton",
          "Dewgong",
          "Muk",
          "Cloyster",
          "Onix",
          "Hypno",
          "Kingler",
          "Exeggutor",
          "Marowak",
          "Hitmonchan",
          "Lickitung",
          "Weezing",
          "Rhyhorn",
          "Rhydon",
          "Chansey",
          "Tangela",
          "Seadra",
          "Seaking",
          "Lapras",
          "Vaporeon",
          "Porygon",
          "Omastar",
          "Kabutops",
          "Snorlax",
          "Dragonair",
          "Bayleef",
          "Meganium",
          "Croconaw",
          "Feraligatr",
          "Furret",
          "Noctowl",
          "Ariados",
          "Lanturn",
          "Togetic",
          "Bellossom",
          "Azumarill",
          "Sudowoodo",
          "Politoed",
          "Sunflora",
          "Quagsire",
          "Umbreon",
          "Slowking",
          "Misdreavus",
          "Wobbuffet",
          "Forretress",
          "Dunsparce",
          "Gligar",
          "Steelix",
          "Granbull",
          "Qwilfish",
          "Shuckle",
          "Ursaring",
          "Magcargo",
          "Piloswine",
          "Corsola",
          "Octillery",
          "Mantine",
          "Skarmory",
          "Donphan",
          "Porygon2",
          "Hitmontop",
          "Miltank",
          "Blissey",
          "Pupitar",
          "Combusken",
          "Marshtomp",
          "Mightyena",
          "Linoone",
          "Dustox",
          "Ludicolo",
          "Pelipper",
          "Masquerain",
          "Breloom",
          "Vigoroth",
          "Exploud",
          "Hariyama",
          "Nosepass",
          "Sableye",
          "Mawile",
          "Lairon",
          "Aggron",
          "Volbeat",
          "Illumise",
          "Swalot",
          "Wailmer",
          "Wailord",
          "Camerupt",
          "Torkoal",
          "Grumpig",
          "Cacturne",
          "Seviper",
          "Lunatone",
          "Solrock",
          "Whiscash",
          "Crawdaunt",
          "Claydol",
          "Lileep",
          "Cradily",
          "Armaldo",
          "Castform",
          "Kecleon",
          "Dusclops",
          "Tropius",
          "Chimecho",
          "Sealeo",
          "Walrein",
          "Huntail",
          "Gorebyss",
          "Relicanth",
          "Shelgon",
          "Metang",
          "Regirock",
          "Regice",
          "Registeel"
         ],
         "legendgroup": "2",
         "marker": {
          "color": "#00cc96",
          "symbol": "circle"
         },
         "mode": "markers",
         "name": "2",
         "orientation": "v",
         "showlegend": true,
         "type": "scatter",
         "x": [
          -0.0839328882214425,
          -0.12946473982365014,
          -0.07996794368398132,
          0.4272119759447057,
          0.28146150238072754,
          1.1470042890247398,
          0.9385496408862748,
          0.2183664696127795,
          0.4640232590210477,
          -0.19879877487196645,
          1.0664353949827037,
          -0.06586628639572152,
          1.219262512084023,
          -0.16278263978498195,
          1.2095353292842894,
          -0.4606007670767354,
          0.9299525519244998,
          2.1987523181575703,
          0.6436622447839497,
          0.7920822008892473,
          1.182077765485262,
          1.1643577350209,
          -0.7070503765052379,
          0.9930877340623202,
          0.6172238943681814,
          1.5665983835416992,
          0.08904614363148536,
          0.5815865624160471,
          -0.38225222701275813,
          0.9030791390866134,
          -1.083156231610324,
          0.7380243173137284,
          0.45961504530423286,
          0.0989754833100617,
          0.18061065185434574,
          0.4672279205774728,
          1.5860038197268924,
          1.5029307872158575,
          -0.20605236326484752,
          0.9820019215674467,
          0.9552955020069714,
          1.7468638004621568,
          0.058566704051689816,
          -0.13700436236212576,
          1.434659851996139,
          -0.18467568765082243,
          1.4551923498660764,
          -0.1436888019483115,
          0.5514448837872907,
          -0.1730001983348646,
          0.5550078772373346,
          -0.02025475822028658,
          1.054293935122776,
          0.0320671224484934,
          -0.15616986879014563,
          1.1704887960632109,
          0.2880726726193573,
          0.16493060988662003,
          1.4858024915987975,
          1.1428936844585558,
          0.28766633358854593,
          -0.2784966935838466,
          0.5055083459222747,
          -0.0336111247586459,
          0.01827188056632946,
          2.366985127317155,
          0.4301151060895275,
          0.19191965338874944,
          1.3879248667613326,
          1.1348037851077932,
          0.19311770548208426,
          0.39089625760899377,
          -0.013871113348897925,
          0.9264334770617526,
          1.0803480083302324,
          0.4599986992603761,
          0.987046999400199,
          1.3656118510934172,
          0.5560235018302797,
          0.7723675877215873,
          1.7553886979796591,
          -0.06028977265875881,
          -0.1115748298694307,
          -0.1291210519205497,
          0.0016441621710621256,
          -0.06394696687541569,
          -0.3796422266496762,
          0.9247300135370491,
          0.2724493383666208,
          0.5410969906127787,
          0.5366832575806723,
          0.17054588316055858,
          0.9813347872062661,
          0.6924006690931768,
          -0.5535932309760874,
          0.9865676901330869,
          0.8448403134432928,
          0.01852559953965008,
          2.5636692257900453,
          0.15130550135951937,
          0.1672171050029812,
          0.6690059941643529,
          -0.30291658835939544,
          1.0154690980310195,
          2.1230833571481815,
          0.6701116317460241,
          0.801743925693726,
          0.8471310602312164,
          0.5773814603790465,
          0.6152214483734736,
          0.49015092107101077,
          0.6526755822751533,
          0.6711559951103316,
          1.1647060967936136,
          -0.7138021342564543,
          1.1306773727363466,
          1.0594772644292982,
          0.03296091162189167,
          0.5131220731982298,
          0.6578398133864414,
          0.5941680061213123,
          0.5558911797456322,
          -0.06858947262851409,
          1.5030747417297508,
          0.9245965478245192,
          0.9368362429348743,
          0.7340860277362103,
          -0.042945797778743286,
          0.03683857252350485,
          1.9866937735897416,
          2.5202486967743924,
          2.253471235182067
         ],
         "xaxis": "x",
         "y": [
          0.18717367234138932,
          -0.3209369634173642,
          -0.07482661739920317,
          0.2540014037775779,
          -1.4873909428104486,
          -0.2234365805476466,
          -0.08578004927963954,
          -0.1458891147668406,
          0.4663949786620682,
          -0.35081008740735714,
          -0.3166879607670409,
          -1.1665208742026691,
          -0.5880122114658778,
          -0.8034336147256794,
          -0.851462056549785,
          -1.7008097762051926,
          -1.9329512864888136,
          -2.3406178467279237,
          0.35198228102520357,
          -0.22799608292499454,
          -0.8984787523321561,
          -1.6133515861663843,
          -1.5355511570047164,
          -0.13564338421792024,
          -0.8782094739154144,
          -0.44060026607052266,
          -1.3980346183088852,
          -0.41846254539847166,
          -1.049670827376149,
          -0.9011697080910911,
          -1.771737319130749,
          -2.0839926612979847,
          -0.30397055677359897,
          -0.41359013452715837,
          0.4731762494323369,
          -0.049435803118495686,
          -0.5784667920986375,
          0.24301703657244336,
          -0.3559888091289389,
          -0.6958979110958435,
          -0.4509850069253125,
          -1.5260424876696193,
          0.2139834649709196,
          -0.2960897275461563,
          -0.23365229553502934,
          -0.4331257971040435,
          -0.3917454139560209,
          0.3936187670606456,
          0.5078394292840934,
          -0.7529009002301492,
          0.08741920821435566,
          -0.635735879515368,
          -0.7363105323097707,
          -0.7200577842738489,
          -2.1359815541083376,
          0.033414183292807105,
          -0.2579859959143332,
          -1.1824610390546473,
          -1.1044099297925525,
          -0.9439719785728676,
          0.869550149637638,
          -1.3327698189073534,
          -2.0096767665758817,
          -0.6417033828894635,
          -0.4883909634042491,
          -4.174636175267887,
          -0.9262651359196971,
          0.02727299451364367,
          -4.876473062002229,
          -0.6259772822624093,
          -1.3860767427203637,
          -0.8679343188408498,
          -1.1730146352915503,
          -0.36339361458732317,
          0.06779317236336405,
          -1.4541903951378943,
          -1.6207693004342196,
          -0.2935513771178118,
          -0.8048305230479036,
          -0.2804077599919232,
          -0.0027181191554008994,
          -0.41887124026253886,
          0.14237862564461623,
          -0.49842594394785983,
          -0.021300200940572812,
          0.776309403433959,
          -0.11512516001358614,
          0.19707756423907463,
          -0.12522642289525107,
          0.8297243410151085,
          -0.3175546325036174,
          0.21858057397228153,
          0.15724852462362757,
          -1.0305041444664704,
          -1.9773699486595704,
          -1.9662731647085567,
          -1.5995627028640658,
          -2.0036254841313648,
          -3.64571376771533,
          0.12295025516956803,
          0.5028547257457757,
          -0.6284923147483858,
          0.3279948253945782,
          0.03026991908819393,
          -1.1125766194386784,
          -2.2005592231445745,
          0.5945685298555503,
          0.2755738103213067,
          0.40041689246664836,
          0.3969339292916208,
          -0.4853796965705865,
          -0.3362250949027938,
          -0.40376114163008714,
          -0.4829139028562929,
          -1.0914419151161783,
          -1.1132326785574689,
          -1.2779797753201765,
          0.1355840238213864,
          -0.8571642442208867,
          -2.1310842955560103,
          -0.7184943661829832,
          0.09391147494180876,
          -0.45878822616832976,
          -0.39635079415720276,
          -0.7460586397409914,
          -0.4538244316054469,
          -1.7821371745713102,
          -0.9924190625080822,
          -1.0279975307378255,
          -3.1556171329027305,
          -0.9358055646082772,
          -2.045711348755504
         ],
         "yaxis": "y"
        }
       ],
       "layout": {
        "legend": {
         "title": {
          "text": "cluster"
         },
         "tracegroupgap": 0
        },
        "template": {
         "data": {
          "bar": [
           {
            "error_x": {
             "color": "#2a3f5f"
            },
            "error_y": {
             "color": "#2a3f5f"
            },
            "marker": {
             "line": {
              "color": "#E5ECF6",
              "width": 0.5
             },
             "pattern": {
              "fillmode": "overlay",
              "size": 10,
              "solidity": 0.2
             }
            },
            "type": "bar"
           }
          ],
          "barpolar": [
           {
            "marker": {
             "line": {
              "color": "#E5ECF6",
              "width": 0.5
             },
             "pattern": {
              "fillmode": "overlay",
              "size": 10,
              "solidity": 0.2
             }
            },
            "type": "barpolar"
           }
          ],
          "carpet": [
           {
            "aaxis": {
             "endlinecolor": "#2a3f5f",
             "gridcolor": "white",
             "linecolor": "white",
             "minorgridcolor": "white",
             "startlinecolor": "#2a3f5f"
            },
            "baxis": {
             "endlinecolor": "#2a3f5f",
             "gridcolor": "white",
             "linecolor": "white",
             "minorgridcolor": "white",
             "startlinecolor": "#2a3f5f"
            },
            "type": "carpet"
           }
          ],
          "choropleth": [
           {
            "colorbar": {
             "outlinewidth": 0,
             "ticks": ""
            },
            "type": "choropleth"
           }
          ],
          "contour": [
           {
            "colorbar": {
             "outlinewidth": 0,
             "ticks": ""
            },
            "colorscale": [
             [
              0,
              "#0d0887"
             ],
             [
              0.1111111111111111,
              "#46039f"
             ],
             [
              0.2222222222222222,
              "#7201a8"
             ],
             [
              0.3333333333333333,
              "#9c179e"
             ],
             [
              0.4444444444444444,
              "#bd3786"
             ],
             [
              0.5555555555555556,
              "#d8576b"
             ],
             [
              0.6666666666666666,
              "#ed7953"
             ],
             [
              0.7777777777777778,
              "#fb9f3a"
             ],
             [
              0.8888888888888888,
              "#fdca26"
             ],
             [
              1,
              "#f0f921"
             ]
            ],
            "type": "contour"
           }
          ],
          "contourcarpet": [
           {
            "colorbar": {
             "outlinewidth": 0,
             "ticks": ""
            },
            "type": "contourcarpet"
           }
          ],
          "heatmap": [
           {
            "colorbar": {
             "outlinewidth": 0,
             "ticks": ""
            },
            "colorscale": [
             [
              0,
              "#0d0887"
             ],
             [
              0.1111111111111111,
              "#46039f"
             ],
             [
              0.2222222222222222,
              "#7201a8"
             ],
             [
              0.3333333333333333,
              "#9c179e"
             ],
             [
              0.4444444444444444,
              "#bd3786"
             ],
             [
              0.5555555555555556,
              "#d8576b"
             ],
             [
              0.6666666666666666,
              "#ed7953"
             ],
             [
              0.7777777777777778,
              "#fb9f3a"
             ],
             [
              0.8888888888888888,
              "#fdca26"
             ],
             [
              1,
              "#f0f921"
             ]
            ],
            "type": "heatmap"
           }
          ],
          "heatmapgl": [
           {
            "colorbar": {
             "outlinewidth": 0,
             "ticks": ""
            },
            "colorscale": [
             [
              0,
              "#0d0887"
             ],
             [
              0.1111111111111111,
              "#46039f"
             ],
             [
              0.2222222222222222,
              "#7201a8"
             ],
             [
              0.3333333333333333,
              "#9c179e"
             ],
             [
              0.4444444444444444,
              "#bd3786"
             ],
             [
              0.5555555555555556,
              "#d8576b"
             ],
             [
              0.6666666666666666,
              "#ed7953"
             ],
             [
              0.7777777777777778,
              "#fb9f3a"
             ],
             [
              0.8888888888888888,
              "#fdca26"
             ],
             [
              1,
              "#f0f921"
             ]
            ],
            "type": "heatmapgl"
           }
          ],
          "histogram": [
           {
            "marker": {
             "pattern": {
              "fillmode": "overlay",
              "size": 10,
              "solidity": 0.2
             }
            },
            "type": "histogram"
           }
          ],
          "histogram2d": [
           {
            "colorbar": {
             "outlinewidth": 0,
             "ticks": ""
            },
            "colorscale": [
             [
              0,
              "#0d0887"
             ],
             [
              0.1111111111111111,
              "#46039f"
             ],
             [
              0.2222222222222222,
              "#7201a8"
             ],
             [
              0.3333333333333333,
              "#9c179e"
             ],
             [
              0.4444444444444444,
              "#bd3786"
             ],
             [
              0.5555555555555556,
              "#d8576b"
             ],
             [
              0.6666666666666666,
              "#ed7953"
             ],
             [
              0.7777777777777778,
              "#fb9f3a"
             ],
             [
              0.8888888888888888,
              "#fdca26"
             ],
             [
              1,
              "#f0f921"
             ]
            ],
            "type": "histogram2d"
           }
          ],
          "histogram2dcontour": [
           {
            "colorbar": {
             "outlinewidth": 0,
             "ticks": ""
            },
            "colorscale": [
             [
              0,
              "#0d0887"
             ],
             [
              0.1111111111111111,
              "#46039f"
             ],
             [
              0.2222222222222222,
              "#7201a8"
             ],
             [
              0.3333333333333333,
              "#9c179e"
             ],
             [
              0.4444444444444444,
              "#bd3786"
             ],
             [
              0.5555555555555556,
              "#d8576b"
             ],
             [
              0.6666666666666666,
              "#ed7953"
             ],
             [
              0.7777777777777778,
              "#fb9f3a"
             ],
             [
              0.8888888888888888,
              "#fdca26"
             ],
             [
              1,
              "#f0f921"
             ]
            ],
            "type": "histogram2dcontour"
           }
          ],
          "mesh3d": [
           {
            "colorbar": {
             "outlinewidth": 0,
             "ticks": ""
            },
            "type": "mesh3d"
           }
          ],
          "parcoords": [
           {
            "line": {
             "colorbar": {
              "outlinewidth": 0,
              "ticks": ""
             }
            },
            "type": "parcoords"
           }
          ],
          "pie": [
           {
            "automargin": true,
            "type": "pie"
           }
          ],
          "scatter": [
           {
            "fillpattern": {
             "fillmode": "overlay",
             "size": 10,
             "solidity": 0.2
            },
            "type": "scatter"
           }
          ],
          "scatter3d": [
           {
            "line": {
             "colorbar": {
              "outlinewidth": 0,
              "ticks": ""
             }
            },
            "marker": {
             "colorbar": {
              "outlinewidth": 0,
              "ticks": ""
             }
            },
            "type": "scatter3d"
           }
          ],
          "scattercarpet": [
           {
            "marker": {
             "colorbar": {
              "outlinewidth": 0,
              "ticks": ""
             }
            },
            "type": "scattercarpet"
           }
          ],
          "scattergeo": [
           {
            "marker": {
             "colorbar": {
              "outlinewidth": 0,
              "ticks": ""
             }
            },
            "type": "scattergeo"
           }
          ],
          "scattergl": [
           {
            "marker": {
             "colorbar": {
              "outlinewidth": 0,
              "ticks": ""
             }
            },
            "type": "scattergl"
           }
          ],
          "scattermapbox": [
           {
            "marker": {
             "colorbar": {
              "outlinewidth": 0,
              "ticks": ""
             }
            },
            "type": "scattermapbox"
           }
          ],
          "scatterpolar": [
           {
            "marker": {
             "colorbar": {
              "outlinewidth": 0,
              "ticks": ""
             }
            },
            "type": "scatterpolar"
           }
          ],
          "scatterpolargl": [
           {
            "marker": {
             "colorbar": {
              "outlinewidth": 0,
              "ticks": ""
             }
            },
            "type": "scatterpolargl"
           }
          ],
          "scatterternary": [
           {
            "marker": {
             "colorbar": {
              "outlinewidth": 0,
              "ticks": ""
             }
            },
            "type": "scatterternary"
           }
          ],
          "surface": [
           {
            "colorbar": {
             "outlinewidth": 0,
             "ticks": ""
            },
            "colorscale": [
             [
              0,
              "#0d0887"
             ],
             [
              0.1111111111111111,
              "#46039f"
             ],
             [
              0.2222222222222222,
              "#7201a8"
             ],
             [
              0.3333333333333333,
              "#9c179e"
             ],
             [
              0.4444444444444444,
              "#bd3786"
             ],
             [
              0.5555555555555556,
              "#d8576b"
             ],
             [
              0.6666666666666666,
              "#ed7953"
             ],
             [
              0.7777777777777778,
              "#fb9f3a"
             ],
             [
              0.8888888888888888,
              "#fdca26"
             ],
             [
              1,
              "#f0f921"
             ]
            ],
            "type": "surface"
           }
          ],
          "table": [
           {
            "cells": {
             "fill": {
              "color": "#EBF0F8"
             },
             "line": {
              "color": "white"
             }
            },
            "header": {
             "fill": {
              "color": "#C8D4E3"
             },
             "line": {
              "color": "white"
             }
            },
            "type": "table"
           }
          ]
         },
         "layout": {
          "annotationdefaults": {
           "arrowcolor": "#2a3f5f",
           "arrowhead": 0,
           "arrowwidth": 1
          },
          "autotypenumbers": "strict",
          "coloraxis": {
           "colorbar": {
            "outlinewidth": 0,
            "ticks": ""
           }
          },
          "colorscale": {
           "diverging": [
            [
             0,
             "#8e0152"
            ],
            [
             0.1,
             "#c51b7d"
            ],
            [
             0.2,
             "#de77ae"
            ],
            [
             0.3,
             "#f1b6da"
            ],
            [
             0.4,
             "#fde0ef"
            ],
            [
             0.5,
             "#f7f7f7"
            ],
            [
             0.6,
             "#e6f5d0"
            ],
            [
             0.7,
             "#b8e186"
            ],
            [
             0.8,
             "#7fbc41"
            ],
            [
             0.9,
             "#4d9221"
            ],
            [
             1,
             "#276419"
            ]
           ],
           "sequential": [
            [
             0,
             "#0d0887"
            ],
            [
             0.1111111111111111,
             "#46039f"
            ],
            [
             0.2222222222222222,
             "#7201a8"
            ],
            [
             0.3333333333333333,
             "#9c179e"
            ],
            [
             0.4444444444444444,
             "#bd3786"
            ],
            [
             0.5555555555555556,
             "#d8576b"
            ],
            [
             0.6666666666666666,
             "#ed7953"
            ],
            [
             0.7777777777777778,
             "#fb9f3a"
            ],
            [
             0.8888888888888888,
             "#fdca26"
            ],
            [
             1,
             "#f0f921"
            ]
           ],
           "sequentialminus": [
            [
             0,
             "#0d0887"
            ],
            [
             0.1111111111111111,
             "#46039f"
            ],
            [
             0.2222222222222222,
             "#7201a8"
            ],
            [
             0.3333333333333333,
             "#9c179e"
            ],
            [
             0.4444444444444444,
             "#bd3786"
            ],
            [
             0.5555555555555556,
             "#d8576b"
            ],
            [
             0.6666666666666666,
             "#ed7953"
            ],
            [
             0.7777777777777778,
             "#fb9f3a"
            ],
            [
             0.8888888888888888,
             "#fdca26"
            ],
            [
             1,
             "#f0f921"
            ]
           ]
          },
          "colorway": [
           "#636efa",
           "#EF553B",
           "#00cc96",
           "#ab63fa",
           "#FFA15A",
           "#19d3f3",
           "#FF6692",
           "#B6E880",
           "#FF97FF",
           "#FECB52"
          ],
          "font": {
           "color": "#2a3f5f"
          },
          "geo": {
           "bgcolor": "white",
           "lakecolor": "white",
           "landcolor": "#E5ECF6",
           "showlakes": true,
           "showland": true,
           "subunitcolor": "white"
          },
          "hoverlabel": {
           "align": "left"
          },
          "hovermode": "closest",
          "mapbox": {
           "style": "light"
          },
          "paper_bgcolor": "white",
          "plot_bgcolor": "#E5ECF6",
          "polar": {
           "angularaxis": {
            "gridcolor": "white",
            "linecolor": "white",
            "ticks": ""
           },
           "bgcolor": "#E5ECF6",
           "radialaxis": {
            "gridcolor": "white",
            "linecolor": "white",
            "ticks": ""
           }
          },
          "scene": {
           "xaxis": {
            "backgroundcolor": "#E5ECF6",
            "gridcolor": "white",
            "gridwidth": 2,
            "linecolor": "white",
            "showbackground": true,
            "ticks": "",
            "zerolinecolor": "white"
           },
           "yaxis": {
            "backgroundcolor": "#E5ECF6",
            "gridcolor": "white",
            "gridwidth": 2,
            "linecolor": "white",
            "showbackground": true,
            "ticks": "",
            "zerolinecolor": "white"
           },
           "zaxis": {
            "backgroundcolor": "#E5ECF6",
            "gridcolor": "white",
            "gridwidth": 2,
            "linecolor": "white",
            "showbackground": true,
            "ticks": "",
            "zerolinecolor": "white"
           }
          },
          "shapedefaults": {
           "line": {
            "color": "#2a3f5f"
           }
          },
          "ternary": {
           "aaxis": {
            "gridcolor": "white",
            "linecolor": "white",
            "ticks": ""
           },
           "baxis": {
            "gridcolor": "white",
            "linecolor": "white",
            "ticks": ""
           },
           "bgcolor": "#E5ECF6",
           "caxis": {
            "gridcolor": "white",
            "linecolor": "white",
            "ticks": ""
           }
          },
          "title": {
           "x": 0.05
          },
          "xaxis": {
           "automargin": true,
           "gridcolor": "white",
           "linecolor": "white",
           "ticks": "",
           "title": {
            "standoff": 15
           },
           "zerolinecolor": "white",
           "zerolinewidth": 2
          },
          "yaxis": {
           "automargin": true,
           "gridcolor": "white",
           "linecolor": "white",
           "ticks": "",
           "title": {
            "standoff": 15
           },
           "zerolinecolor": "white",
           "zerolinewidth": 2
          }
         }
        },
        "title": {
         "text": "PCA of Pokémon Clusters"
        },
        "xaxis": {
         "anchor": "y",
         "domain": [
          0,
          1
         ],
         "title": {
          "text": "Principal Component 1"
         }
        },
        "yaxis": {
         "anchor": "x",
         "domain": [
          0,
          1
         ],
         "title": {
          "text": "Principal Component 2"
         }
        }
       }
      }
     },
     "metadata": {},
     "output_type": "display_data"
    }
   ],
   "source": [
    "interactive_plot(df_details)"
   ]
  },
  {
   "cell_type": "markdown",
   "metadata": {},
   "source": [
    "* Caution: The clusters might appear to overlap in the PCA plot even though they are well-separated in the original feature space.\n",
    "* The performance of k-means clustering is not bad\n",
    "* At least, it can roughly separate Pokémon before and after evolution"
   ]
  },
  {
   "cell_type": "markdown",
   "metadata": {},
   "source": [
    "### DBSCAN"
   ]
  },
  {
   "cell_type": "code",
   "execution_count": 116,
   "metadata": {},
   "outputs": [],
   "source": [
    "def optimise_epsilon(X, k):\n",
    "    neigh = NearestNeighbors(n_neighbors=k)\n",
    "    neigh.fit(X)\n",
    "    distances, _ = neigh.kneighbors(X)\n",
    "    distances = np.sort(distances[:, k-1])\n",
    "\n",
    "    kl = KneeLocator(range(1, len(distances) + 1), distances, curve=\"convex\", direction=\"increasing\")\n",
    "    optimal_eps = distances[kl.knee]\n",
    "    \n",
    "    plt.figure(figsize=(6, 3))\n",
    "    plt.plot(distances)\n",
    "    plt.xlabel('Points')\n",
    "    plt.ylabel(f'{k}-th nearest neighbor distance')\n",
    "    plt.title('K-distance Graph')\n",
    "    plt.show()\n",
    "    \n",
    "    return optimal_eps"
   ]
  },
  {
   "cell_type": "code",
   "execution_count": 117,
   "metadata": {},
   "outputs": [
    {
     "data": {
      "text/html": [
       "<div>\n",
       "<style scoped>\n",
       "    .dataframe tbody tr th:only-of-type {\n",
       "        vertical-align: middle;\n",
       "    }\n",
       "\n",
       "    .dataframe tbody tr th {\n",
       "        vertical-align: top;\n",
       "    }\n",
       "\n",
       "    .dataframe thead th {\n",
       "        text-align: right;\n",
       "    }\n",
       "</style>\n",
       "<table border=\"1\" class=\"dataframe\">\n",
       "  <thead>\n",
       "    <tr style=\"text-align: right;\">\n",
       "      <th></th>\n",
       "      <th>attack</th>\n",
       "      <th>defense</th>\n",
       "      <th>sp_attack</th>\n",
       "      <th>sp_defense</th>\n",
       "      <th>hp</th>\n",
       "      <th>speed</th>\n",
       "    </tr>\n",
       "    <tr>\n",
       "      <th>pokedex_number</th>\n",
       "      <th></th>\n",
       "      <th></th>\n",
       "      <th></th>\n",
       "      <th></th>\n",
       "      <th></th>\n",
       "      <th></th>\n",
       "    </tr>\n",
       "  </thead>\n",
       "  <tbody>\n",
       "    <tr>\n",
       "      <th>1</th>\n",
       "      <td>-0.776303</td>\n",
       "      <td>-0.668273</td>\n",
       "      <td>-0.127788</td>\n",
       "      <td>-0.163425</td>\n",
       "      <td>-0.763316</td>\n",
       "      <td>-0.700774</td>\n",
       "    </tr>\n",
       "    <tr>\n",
       "      <th>2</th>\n",
       "      <td>-0.377011</td>\n",
       "      <td>-0.250921</td>\n",
       "      <td>0.337261</td>\n",
       "      <td>0.347776</td>\n",
       "      <td>-0.231411</td>\n",
       "      <td>-0.191488</td>\n",
       "    </tr>\n",
       "    <tr>\n",
       "      <th>3</th>\n",
       "      <td>0.790148</td>\n",
       "      <td>1.537732</td>\n",
       "      <td>1.639400</td>\n",
       "      <td>1.710979</td>\n",
       "      <td>0.477796</td>\n",
       "      <td>0.487560</td>\n",
       "    </tr>\n",
       "    <tr>\n",
       "      <th>4</th>\n",
       "      <td>-0.684159</td>\n",
       "      <td>-0.847139</td>\n",
       "      <td>-0.282805</td>\n",
       "      <td>-0.674626</td>\n",
       "      <td>-0.976078</td>\n",
       "      <td>-0.021726</td>\n",
       "    </tr>\n",
       "    <tr>\n",
       "      <th>5</th>\n",
       "      <td>-0.315582</td>\n",
       "      <td>-0.399976</td>\n",
       "      <td>0.337261</td>\n",
       "      <td>-0.163425</td>\n",
       "      <td>-0.302331</td>\n",
       "      <td>0.487560</td>\n",
       "    </tr>\n",
       "  </tbody>\n",
       "</table>\n",
       "</div>"
      ],
      "text/plain": [
       "                  attack   defense  sp_attack  sp_defense        hp     speed\n",
       "pokedex_number                                                               \n",
       "1              -0.776303 -0.668273  -0.127788   -0.163425 -0.763316 -0.700774\n",
       "2              -0.377011 -0.250921   0.337261    0.347776 -0.231411 -0.191488\n",
       "3               0.790148  1.537732   1.639400    1.710979  0.477796  0.487560\n",
       "4              -0.684159 -0.847139  -0.282805   -0.674626 -0.976078 -0.021726\n",
       "5              -0.315582 -0.399976   0.337261   -0.163425 -0.302331  0.487560"
      ]
     },
     "execution_count": 117,
     "metadata": {},
     "output_type": "execute_result"
    }
   ],
   "source": [
    "df1 = df.copy().drop([\"cluster\"], axis=1)\n",
    "df1.head()"
   ]
  },
  {
   "cell_type": "code",
   "execution_count": 160,
   "metadata": {},
   "outputs": [
    {
     "data": {
      "image/png": "[encoded data removed]",
      "text/plain": [
       "<Figure size 600x300 with 1 Axes>"
      ]
     },
     "metadata": {},
     "output_type": "display_data"
    }
   ],
   "source": [
    "min_samples = 2 * df1.shape[1]\n",
    "# min_samples = 2\n",
    "epsilon = optimise_epsilon(df1, k=min_samples)"
   ]
  },
  {
   "cell_type": "code",
   "execution_count": 161,
   "metadata": {},
   "outputs": [],
   "source": [
    "dbscan = DBSCAN(eps=epsilon, min_samples=min_samples)"
   ]
  },
  {
   "cell_type": "markdown",
   "metadata": {},
   "source": [
    "#### Evaluation"
   ]
  },
  {
   "cell_type": "code",
   "execution_count": 162,
   "metadata": {},
   "outputs": [
    {
     "name": "stdout",
     "output_type": "stream",
     "text": [
      "Clusters: 0, -1\n",
      "Silhouette Score: 0.523\n"
     ]
    }
   ],
   "source": [
    "df1['cluster'] = dbscan.fit_predict(df1[columns_to_scale])\n",
    "silhouette_avg = silhouette_score(df1[columns_to_scale], df1['cluster'])\n",
    "print(f'Clusters: {\", \".join(df1[\"cluster\"].unique().astype(str))}')\n",
    "print(f'Silhouette Score: {silhouette_avg:.3f}')"
   ]
  },
  {
   "cell_type": "markdown",
   "metadata": {},
   "source": [
    "* Higher Silhouette Score (0.506) suggests better-defined clusters compared to K-Means\n",
    "* However, DBSCAN found only one cluster exists and the rest of the points are noise"
   ]
  },
  {
   "cell_type": "code",
   "execution_count": 163,
   "metadata": {},
   "outputs": [],
   "source": [
    "df1_details = pd.merge(df_pca, df1['cluster'], left_index=True, right_index=True, how='inner')\n",
    "columns = ['name', 'pokedex_number', 'attack', 'defense', 'sp_attack', 'sp_defense', 'hp', 'speed', 'is_legendary']\n",
    "temp1 = df0.loc[condition_generation, columns].copy()\n",
    "temp1.set_index('pokedex_number', inplace=True)\n",
    "df1_details = pd.merge(df1_details, temp1, left_index=True, right_index=True, how='inner')"
   ]
  },
  {
   "cell_type": "code",
   "execution_count": 170,
   "metadata": {},
   "outputs": [
    {
     "data": {
      "application/vnd.plotly.v1+json": {
       "config": {
        "plotlyServerURL": "https://plot.ly"
       },
       "data": [
        {
         "customdata": [
          [
           113,
           5,
           5,
           35,
           105,
           250,
           50,
           0
          ],
          [
           202,
           33,
           58,
           33,
           58,
           190,
           33,
           0
          ],
          [
           208,
           125,
           230,
           55,
           95,
           75,
           30,
           0
          ],
          [
           213,
           10,
           230,
           10,
           230,
           20,
           5,
           0
          ],
          [
           242,
           10,
           10,
           75,
           135,
           255,
           55,
           0
          ],
          [
           306,
           140,
           230,
           60,
           80,
           70,
           50,
           0
          ],
          [
           378,
           50,
           100,
           100,
           200,
           80,
           50,
           1
          ]
         ],
         "hovertemplate": "<b>%{hovertext}</b><br><br>cluster=-1<br>Principal Component 1=%{x}<br>Principal Component 2=%{y}<br>pokedex_number=%{customdata[0]}<br>attack=%{customdata[1]}<br>defense=%{customdata[2]}<br>sp_attack=%{customdata[3]}<br>sp_defense=%{customdata[4]}<br>hp=%{customdata[5]}<br>speed=%{customdata[6]}<br>is_legendary=%{customdata[7]}<extra></extra>",
         "hovertext": [
          "Chansey",
          "Wobbuffet",
          "Steelix",
          "Shuckle",
          "Blissey",
          "Aggron",
          "Regice"
         ],
         "legendgroup": "-1",
         "marker": {
          "color": "#636efa",
          "symbol": "circle"
         },
         "mode": "markers",
         "name": "-1",
         "orientation": "v",
         "showlegend": true,
         "type": "scatter",
         "x": [
          0.45961504530423286,
          -0.2784966935838466,
          2.366985127317155,
          1.3879248667613326,
          1.7553886979796591,
          2.5636692257900453,
          2.5202486967743924
         ],
         "xaxis": "x",
         "y": [
          -0.30397055677359897,
          -1.3327698189073534,
          -4.174636175267887,
          -4.876473062002229,
          -0.0027181191554008994,
          -3.64571376771533,
          -0.9358055646082772
         ],
         "yaxis": "y"
        },
        {
         "customdata": [
          [
           1,
           49,
           49,
           65,
           65,
           45,
           45,
           0
          ],
          [
           2,
           62,
           63,
           80,
           80,
           60,
           60,
           0
          ],
          [
           3,
           100,
           123,
           122,
           120,
           80,
           80,
           0
          ],
          [
           4,
           52,
           43,
           60,
           50,
           39,
           65,
           0
          ],
          [
           5,
           64,
           58,
           80,
           65,
           58,
           80,
           0
          ],
          [
           6,
           104,
           78,
           159,
           115,
           78,
           100,
           0
          ],
          [
           7,
           48,
           65,
           50,
           64,
           44,
           43,
           0
          ],
          [
           8,
           63,
           80,
           65,
           80,
           59,
           58,
           0
          ],
          [
           9,
           103,
           120,
           135,
           115,
           79,
           78,
           0
          ],
          [
           10,
           30,
           35,
           20,
           20,
           45,
           45,
           0
          ],
          [
           11,
           20,
           55,
           25,
           25,
           50,
           30,
           0
          ],
          [
           12,
           45,
           50,
           90,
           80,
           60,
           70,
           0
          ],
          [
           13,
           35,
           30,
           20,
           20,
           40,
           50,
           0
          ],
          [
           14,
           25,
           50,
           25,
           25,
           45,
           35,
           0
          ],
          [
           15,
           150,
           40,
           15,
           80,
           65,
           145,
           0
          ],
          [
           16,
           45,
           40,
           35,
           35,
           40,
           56,
           0
          ],
          [
           17,
           60,
           55,
           50,
           50,
           63,
           71,
           0
          ],
          [
           18,
           80,
           80,
           135,
           80,
           83,
           121,
           0
          ],
          [
           19,
           56,
           35,
           25,
           35,
           30,
           72,
           0
          ],
          [
           20,
           71,
           70,
           40,
           80,
           75,
           77,
           0
          ],
          [
           21,
           60,
           30,
           31,
           31,
           40,
           70,
           0
          ],
          [
           22,
           90,
           65,
           61,
           61,
           65,
           100,
           0
          ],
          [
           23,
           60,
           44,
           40,
           54,
           35,
           55,
           0
          ],
          [
           24,
           95,
           69,
           65,
           79,
           60,
           80,
           0
          ],
          [
           25,
           55,
           40,
           50,
           50,
           35,
           90,
           0
          ],
          [
           26,
           85,
           50,
           95,
           85,
           60,
           110,
           0
          ],
          [
           27,
           75,
           90,
           10,
           35,
           50,
           40,
           0
          ],
          [
           28,
           100,
           120,
           25,
           65,
           75,
           65,
           0
          ],
          [
           29,
           47,
           52,
           40,
           40,
           55,
           41,
           0
          ],
          [
           30,
           62,
           67,
           55,
           55,
           70,
           56,
           0
          ],
          [
           31,
           92,
           87,
           75,
           85,
           90,
           76,
           0
          ],
          [
           32,
           57,
           40,
           40,
           40,
           46,
           50,
           0
          ],
          [
           33,
           72,
           57,
           55,
           55,
           61,
           65,
           0
          ],
          [
           34,
           102,
           77,
           85,
           75,
           81,
           85,
           0
          ],
          [
           35,
           45,
           48,
           60,
           65,
           70,
           35,
           0
          ],
          [
           36,
           70,
           73,
           95,
           90,
           95,
           60,
           0
          ],
          [
           37,
           41,
           40,
           50,
           65,
           38,
           65,
           0
          ],
          [
           38,
           67,
           75,
           81,
           100,
           73,
           109,
           0
          ],
          [
           39,
           45,
           20,
           45,
           25,
           115,
           20,
           0
          ],
          [
           40,
           70,
           45,
           85,
           50,
           140,
           45,
           0
          ],
          [
           41,
           45,
           35,
           30,
           40,
           40,
           55,
           0
          ],
          [
           42,
           80,
           70,
           65,
           75,
           75,
           90,
           0
          ],
          [
           43,
           50,
           55,
           75,
           65,
           45,
           30,
           0
          ],
          [
           44,
           65,
           70,
           85,
           75,
           60,
           40,
           0
          ],
          [
           45,
           80,
           85,
           110,
           90,
           75,
           50,
           0
          ],
          [
           46,
           70,
           55,
           45,
           55,
           35,
           25,
           0
          ],
          [
           47,
           95,
           80,
           60,
           80,
           60,
           30,
           0
          ],
          [
           48,
           55,
           50,
           40,
           55,
           60,
           45,
           0
          ],
          [
           49,
           65,
           60,
           90,
           75,
           70,
           90,
           0
          ],
          [
           50,
           55,
           30,
           35,
           45,
           10,
           90,
           0
          ],
          [
           51,
           100,
           60,
           50,
           70,
           35,
           110,
           0
          ],
          [
           52,
           35,
           35,
           50,
           40,
           40,
           90,
           0
          ],
          [
           53,
           60,
           60,
           75,
           65,
           65,
           115,
           0
          ],
          [
           54,
           52,
           48,
           65,
           50,
           50,
           55,
           0
          ],
          [
           55,
           82,
           78,
           95,
           80,
           80,
           85,
           0
          ],
          [
           56,
           80,
           35,
           35,
           45,
           40,
           70,
           0
          ],
          [
           57,
           105,
           60,
           60,
           70,
           65,
           95,
           0
          ],
          [
           58,
           70,
           45,
           70,
           50,
           55,
           60,
           0
          ],
          [
           59,
           110,
           80,
           100,
           80,
           90,
           95,
           0
          ],
          [
           60,
           50,
           40,
           40,
           40,
           40,
           90,
           0
          ],
          [
           61,
           65,
           65,
           50,
           50,
           65,
           90,
           0
          ],
          [
           62,
           95,
           95,
           70,
           90,
           90,
           70,
           0
          ],
          [
           63,
           20,
           15,
           105,
           55,
           25,
           90,
           0
          ],
          [
           64,
           35,
           30,
           120,
           70,
           40,
           105,
           0
          ],
          [
           65,
           50,
           65,
           175,
           105,
           55,
           150,
           0
          ],
          [
           66,
           80,
           50,
           35,
           35,
           70,
           35,
           0
          ],
          [
           67,
           100,
           70,
           50,
           60,
           80,
           45,
           0
          ],
          [
           68,
           130,
           80,
           65,
           85,
           90,
           55,
           0
          ],
          [
           69,
           75,
           35,
           70,
           30,
           50,
           40,
           0
          ],
          [
           70,
           90,
           50,
           85,
           45,
           65,
           55,
           0
          ],
          [
           71,
           105,
           65,
           100,
           70,
           80,
           70,
           0
          ],
          [
           72,
           40,
           35,
           50,
           100,
           40,
           70,
           0
          ],
          [
           73,
           70,
           65,
           80,
           120,
           80,
           100,
           0
          ],
          [
           74,
           80,
           100,
           30,
           30,
           40,
           20,
           0
          ],
          [
           75,
           95,
           115,
           45,
           45,
           55,
           35,
           0
          ],
          [
           76,
           120,
           130,
           55,
           65,
           80,
           45,
           0
          ],
          [
           77,
           85,
           55,
           65,
           65,
           50,
           90,
           0
          ],
          [
           78,
           100,
           70,
           80,
           80,
           65,
           105,
           0
          ],
          [
           79,
           65,
           65,
           40,
           40,
           90,
           15,
           0
          ],
          [
           80,
           75,
           180,
           130,
           80,
           95,
           30,
           0
          ],
          [
           81,
           35,
           70,
           95,
           55,
           25,
           45,
           0
          ],
          [
           82,
           60,
           95,
           120,
           70,
           50,
           70,
           0
          ],
          [
           83,
           90,
           55,
           58,
           62,
           52,
           60,
           0
          ],
          [
           84,
           85,
           45,
           35,
           35,
           35,
           75,
           0
          ],
          [
           85,
           110,
           70,
           60,
           60,
           60,
           110,
           0
          ],
          [
           86,
           45,
           55,
           45,
           70,
           65,
           45,
           0
          ],
          [
           87,
           70,
           80,
           70,
           95,
           90,
           70,
           0
          ],
          [
           88,
           80,
           50,
           40,
           50,
           80,
           25,
           0
          ],
          [
           89,
           105,
           75,
           65,
           100,
           105,
           50,
           0
          ],
          [
           90,
           65,
           100,
           45,
           25,
           30,
           40,
           0
          ],
          [
           91,
           95,
           180,
           85,
           45,
           50,
           70,
           0
          ],
          [
           92,
           35,
           30,
           100,
           35,
           30,
           80,
           0
          ],
          [
           93,
           50,
           45,
           115,
           55,
           45,
           95,
           0
          ],
          [
           94,
           65,
           80,
           170,
           95,
           60,
           130,
           0
          ],
          [
           95,
           45,
           160,
           30,
           45,
           35,
           70,
           0
          ],
          [
           96,
           48,
           45,
           43,
           90,
           60,
           42,
           0
          ],
          [
           97,
           73,
           70,
           73,
           115,
           85,
           67,
           0
          ],
          [
           98,
           105,
           90,
           25,
           25,
           30,
           50,
           0
          ],
          [
           99,
           130,
           115,
           50,
           50,
           55,
           75,
           0
          ],
          [
           100,
           30,
           50,
           55,
           55,
           40,
           100,
           0
          ],
          [
           101,
           50,
           70,
           80,
           80,
           60,
           150,
           0
          ],
          [
           102,
           40,
           80,
           60,
           45,
           60,
           40,
           0
          ],
          [
           103,
           105,
           85,
           125,
           75,
           95,
           45,
           0
          ],
          [
           104,
           50,
           95,
           40,
           50,
           50,
           35,
           0
          ],
          [
           105,
           80,
           110,
           50,
           80,
           60,
           45,
           0
          ],
          [
           106,
           120,
           53,
           35,
           110,
           50,
           87,
           0
          ],
          [
           107,
           105,
           79,
           35,
           110,
           50,
           76,
           0
          ],
          [
           108,
           55,
           75,
           60,
           75,
           90,
           30,
           0
          ],
          [
           109,
           65,
           95,
           60,
           45,
           40,
           35,
           0
          ],
          [
           110,
           90,
           120,
           85,
           70,
           65,
           60,
           0
          ],
          [
           111,
           85,
           95,
           30,
           30,
           80,
           25,
           0
          ],
          [
           112,
           130,
           120,
           45,
           45,
           105,
           40,
           0
          ],
          [
           114,
           55,
           115,
           100,
           40,
           65,
           60,
           0
          ],
          [
           115,
           125,
           100,
           60,
           100,
           105,
           100,
           0
          ],
          [
           116,
           40,
           70,
           70,
           25,
           30,
           60,
           0
          ],
          [
           117,
           65,
           95,
           95,
           45,
           55,
           85,
           0
          ],
          [
           118,
           67,
           60,
           35,
           50,
           45,
           63,
           0
          ],
          [
           119,
           92,
           65,
           65,
           80,
           80,
           68,
           0
          ],
          [
           120,
           45,
           55,
           70,
           55,
           30,
           85,
           0
          ],
          [
           121,
           75,
           85,
           100,
           85,
           60,
           115,
           0
          ],
          [
           122,
           45,
           65,
           100,
           120,
           40,
           90,
           0
          ],
          [
           123,
           110,
           80,
           55,
           80,
           70,
           105,
           0
          ],
          [
           124,
           50,
           35,
           115,
           95,
           65,
           95,
           0
          ],
          [
           125,
           83,
           57,
           95,
           85,
           65,
           105,
           0
          ],
          [
           126,
           95,
           57,
           100,
           85,
           65,
           93,
           0
          ],
          [
           127,
           155,
           120,
           65,
           90,
           65,
           105,
           0
          ],
          [
           128,
           100,
           95,
           40,
           70,
           75,
           110,
           0
          ],
          [
           129,
           10,
           55,
           15,
           20,
           20,
           80,
           0
          ],
          [
           130,
           155,
           109,
           70,
           130,
           95,
           81,
           0
          ],
          [
           131,
           85,
           80,
           85,
           95,
           130,
           60,
           0
          ],
          [
           132,
           48,
           48,
           48,
           48,
           48,
           48,
           0
          ],
          [
           133,
           55,
           50,
           45,
           65,
           55,
           55,
           0
          ],
          [
           134,
           65,
           60,
           110,
           95,
           130,
           65,
           0
          ],
          [
           135,
           65,
           60,
           110,
           95,
           65,
           130,
           0
          ],
          [
           136,
           130,
           60,
           95,
           110,
           65,
           65,
           0
          ],
          [
           137,
           60,
           70,
           85,
           75,
           65,
           40,
           0
          ],
          [
           138,
           40,
           100,
           90,
           55,
           35,
           35,
           0
          ],
          [
           139,
           60,
           125,
           115,
           70,
           70,
           55,
           0
          ],
          [
           140,
           80,
           90,
           55,
           45,
           30,
           55,
           0
          ],
          [
           141,
           115,
           105,
           65,
           70,
           60,
           80,
           0
          ],
          [
           142,
           135,
           85,
           70,
           95,
           80,
           150,
           0
          ],
          [
           143,
           110,
           65,
           65,
           110,
           160,
           30,
           0
          ],
          [
           144,
           85,
           100,
           95,
           125,
           90,
           85,
           1
          ],
          [
           145,
           90,
           85,
           125,
           90,
           90,
           100,
           1
          ],
          [
           146,
           100,
           90,
           125,
           85,
           90,
           90,
           1
          ],
          [
           147,
           64,
           45,
           50,
           50,
           41,
           50,
           0
          ],
          [
           148,
           84,
           65,
           70,
           70,
           61,
           70,
           0
          ],
          [
           149,
           134,
           95,
           100,
           100,
           91,
           80,
           0
          ],
          [
           150,
           150,
           70,
           194,
           120,
           106,
           140,
           1
          ],
          [
           151,
           100,
           100,
           100,
           100,
           100,
           100,
           1
          ],
          [
           152,
           49,
           65,
           49,
           65,
           45,
           45,
           0
          ],
          [
           153,
           62,
           80,
           63,
           80,
           60,
           60,
           0
          ],
          [
           154,
           82,
           100,
           83,
           100,
           80,
           80,
           0
          ],
          [
           155,
           52,
           43,
           60,
           50,
           39,
           65,
           0
          ],
          [
           156,
           64,
           58,
           80,
           65,
           58,
           80,
           0
          ],
          [
           157,
           84,
           78,
           109,
           85,
           78,
           100,
           0
          ],
          [
           158,
           65,
           64,
           44,
           48,
           50,
           43,
           0
          ],
          [
           159,
           80,
           80,
           59,
           63,
           65,
           58,
           0
          ],
          [
           160,
           105,
           100,
           79,
           83,
           85,
           78,
           0
          ],
          [
           161,
           46,
           34,
           35,
           45,
           35,
           20,
           0
          ],
          [
           162,
           76,
           64,
           45,
           55,
           85,
           90,
           0
          ],
          [
           163,
           30,
           30,
           36,
           56,
           60,
           50,
           0
          ],
          [
           164,
           50,
           50,
           86,
           96,
           100,
           70,
           0
          ],
          [
           165,
           20,
           30,
           40,
           80,
           40,
           55,
           0
          ],
          [
           166,
           35,
           50,
           55,
           110,
           55,
           85,
           0
          ],
          [
           167,
           60,
           40,
           40,
           40,
           40,
           30,
           0
          ],
          [
           168,
           90,
           70,
           60,
           70,
           70,
           40,
           0
          ],
          [
           169,
           90,
           80,
           70,
           80,
           85,
           130,
           0
          ],
          [
           170,
           38,
           38,
           56,
           56,
           75,
           67,
           0
          ],
          [
           171,
           58,
           58,
           76,
           76,
           125,
           67,
           0
          ],
          [
           172,
           40,
           15,
           35,
           35,
           20,
           60,
           0
          ],
          [
           173,
           25,
           28,
           45,
           55,
           50,
           15,
           0
          ],
          [
           174,
           30,
           15,
           40,
           20,
           90,
           15,
           0
          ],
          [
           175,
           20,
           65,
           40,
           65,
           35,
           20,
           0
          ],
          [
           176,
           40,
           85,
           80,
           105,
           55,
           40,
           0
          ],
          [
           177,
           50,
           45,
           70,
           45,
           40,
           70,
           0
          ],
          [
           178,
           75,
           70,
           95,
           70,
           65,
           95,
           0
          ],
          [
           179,
           40,
           40,
           65,
           45,
           55,
           35,
           0
          ],
          [
           180,
           55,
           55,
           80,
           60,
           70,
           45,
           0
          ],
          [
           181,
           95,
           105,
           165,
           110,
           90,
           45,
           0
          ],
          [
           182,
           80,
           95,
           90,
           100,
           75,
           50,
           0
          ],
          [
           183,
           20,
           50,
           20,
           50,
           70,
           40,
           0
          ],
          [
           184,
           50,
           80,
           60,
           80,
           100,
           50,
           0
          ],
          [
           185,
           100,
           115,
           30,
           65,
           70,
           30,
           0
          ],
          [
           186,
           75,
           75,
           90,
           100,
           90,
           70,
           0
          ],
          [
           187,
           35,
           40,
           35,
           55,
           35,
           50,
           0
          ],
          [
           188,
           45,
           50,
           45,
           65,
           55,
           80,
           0
          ],
          [
           189,
           55,
           70,
           55,
           95,
           75,
           110,
           0
          ],
          [
           190,
           70,
           55,
           40,
           55,
           55,
           85,
           0
          ],
          [
           191,
           30,
           30,
           30,
           30,
           30,
           30,
           0
          ],
          [
           192,
           75,
           55,
           105,
           85,
           75,
           30,
           0
          ],
          [
           193,
           65,
           45,
           75,
           45,
           65,
           95,
           0
          ],
          [
           194,
           45,
           45,
           25,
           25,
           55,
           15,
           0
          ],
          [
           195,
           85,
           85,
           65,
           65,
           95,
           35,
           0
          ],
          [
           196,
           65,
           60,
           130,
           95,
           65,
           110,
           0
          ],
          [
           197,
           65,
           110,
           60,
           130,
           95,
           65,
           0
          ],
          [
           198,
           85,
           42,
           85,
           42,
           60,
           91,
           0
          ],
          [
           199,
           75,
           80,
           100,
           110,
           95,
           30,
           0
          ],
          [
           200,
           60,
           60,
           85,
           85,
           60,
           85,
           0
          ],
          [
           201,
           72,
           48,
           72,
           48,
           48,
           48,
           0
          ],
          [
           203,
           80,
           65,
           90,
           65,
           70,
           85,
           0
          ],
          [
           204,
           65,
           90,
           35,
           35,
           50,
           15,
           0
          ],
          [
           205,
           90,
           140,
           60,
           60,
           75,
           40,
           0
          ],
          [
           206,
           70,
           70,
           65,
           65,
           100,
           45,
           0
          ],
          [
           207,
           75,
           105,
           35,
           65,
           65,
           85,
           0
          ],
          [
           209,
           80,
           50,
           40,
           40,
           60,
           30,
           0
          ],
          [
           210,
           120,
           75,
           60,
           60,
           90,
           45,
           0
          ],
          [
           211,
           95,
           85,
           55,
           55,
           65,
           85,
           0
          ],
          [
           212,
           150,
           140,
           65,
           100,
           70,
           75,
           0
          ],
          [
           214,
           185,
           115,
           40,
           105,
           80,
           75,
           0
          ],
          [
           215,
           95,
           55,
           35,
           75,
           55,
           115,
           0
          ],
          [
           216,
           80,
           50,
           50,
           50,
           60,
           40,
           0
          ],
          [
           217,
           130,
           75,
           75,
           75,
           90,
           55,
           0
          ],
          [
           218,
           40,
           40,
           70,
           40,
           40,
           20,
           0
          ],
          [
           219,
           50,
           120,
           90,
           80,
           60,
           30,
           0
          ],
          [
           220,
           50,
           40,
           30,
           30,
           50,
           50,
           0
          ],
          [
           221,
           100,
           80,
           60,
           60,
           100,
           50,
           0
          ],
          [
           222,
           55,
           95,
           65,
           95,
           65,
           35,
           0
          ],
          [
           223,
           65,
           35,
           65,
           35,
           35,
           65,
           0
          ],
          [
           224,
           105,
           75,
           105,
           75,
           75,
           45,
           0
          ],
          [
           225,
           55,
           45,
           65,
           45,
           45,
           75,
           0
          ],
          [
           226,
           40,
           70,
           80,
           140,
           85,
           70,
           0
          ],
          [
           227,
           80,
           140,
           40,
           70,
           65,
           70,
           0
          ],
          [
           228,
           60,
           30,
           80,
           50,
           45,
           65,
           0
          ],
          [
           229,
           90,
           90,
           140,
           90,
           75,
           115,
           0
          ],
          [
           230,
           95,
           95,
           95,
           95,
           75,
           85,
           0
          ],
          [
           231,
           60,
           60,
           40,
           40,
           90,
           40,
           0
          ],
          [
           232,
           120,
           120,
           60,
           60,
           90,
           50,
           0
          ],
          [
           233,
           80,
           90,
           105,
           95,
           85,
           60,
           0
          ],
          [
           234,
           95,
           62,
           85,
           65,
           73,
           85,
           0
          ],
          [
           235,
           20,
           35,
           20,
           45,
           55,
           75,
           0
          ],
          [
           236,
           35,
           35,
           35,
           35,
           35,
           35,
           0
          ],
          [
           237,
           95,
           95,
           35,
           110,
           50,
           70,
           0
          ],
          [
           238,
           30,
           15,
           85,
           65,
           45,
           65,
           0
          ],
          [
           239,
           63,
           37,
           65,
           55,
           45,
           95,
           0
          ],
          [
           240,
           75,
           37,
           70,
           55,
           45,
           83,
           0
          ],
          [
           241,
           80,
           105,
           40,
           70,
           95,
           100,
           0
          ],
          [
           243,
           85,
           75,
           115,
           100,
           90,
           115,
           1
          ],
          [
           244,
           115,
           85,
           90,
           75,
           115,
           100,
           1
          ],
          [
           245,
           75,
           115,
           90,
           115,
           100,
           85,
           1
          ],
          [
           246,
           64,
           50,
           45,
           50,
           50,
           41,
           0
          ],
          [
           247,
           84,
           70,
           65,
           70,
           70,
           51,
           0
          ],
          [
           248,
           164,
           150,
           95,
           120,
           100,
           71,
           0
          ],
          [
           249,
           90,
           130,
           90,
           154,
           106,
           110,
           1
          ],
          [
           250,
           130,
           90,
           110,
           154,
           106,
           90,
           1
          ],
          [
           251,
           100,
           100,
           100,
           100,
           100,
           100,
           1
          ],
          [
           252,
           45,
           35,
           65,
           55,
           40,
           70,
           0
          ],
          [
           253,
           65,
           45,
           85,
           65,
           50,
           95,
           0
          ],
          [
           254,
           110,
           75,
           145,
           85,
           70,
           145,
           0
          ],
          [
           255,
           60,
           40,
           70,
           50,
           45,
           45,
           0
          ],
          [
           256,
           85,
           60,
           85,
           60,
           60,
           55,
           0
          ],
          [
           257,
           160,
           80,
           130,
           80,
           80,
           100,
           0
          ],
          [
           258,
           70,
           50,
           50,
           50,
           50,
           40,
           0
          ],
          [
           259,
           85,
           70,
           60,
           70,
           70,
           50,
           0
          ],
          [
           260,
           150,
           110,
           95,
           110,
           100,
           70,
           0
          ],
          [
           261,
           55,
           35,
           30,
           30,
           35,
           35,
           0
          ],
          [
           262,
           90,
           70,
           60,
           60,
           70,
           70,
           0
          ],
          [
           263,
           30,
           41,
           30,
           41,
           38,
           60,
           0
          ],
          [
           264,
           70,
           61,
           50,
           61,
           78,
           100,
           0
          ],
          [
           265,
           45,
           35,
           20,
           30,
           45,
           20,
           0
          ],
          [
           266,
           35,
           55,
           25,
           25,
           50,
           15,
           0
          ],
          [
           267,
           70,
           50,
           100,
           50,
           60,
           65,
           0
          ],
          [
           268,
           35,
           55,
           25,
           25,
           50,
           15,
           0
          ],
          [
           269,
           50,
           70,
           50,
           90,
           60,
           65,
           0
          ],
          [
           270,
           30,
           30,
           40,
           50,
           40,
           30,
           0
          ],
          [
           271,
           50,
           50,
           60,
           70,
           60,
           50,
           0
          ],
          [
           272,
           70,
           70,
           90,
           100,
           80,
           70,
           0
          ],
          [
           273,
           40,
           50,
           30,
           30,
           40,
           30,
           0
          ],
          [
           274,
           70,
           40,
           60,
           40,
           70,
           60,
           0
          ],
          [
           275,
           100,
           60,
           90,
           60,
           90,
           80,
           0
          ],
          [
           276,
           55,
           30,
           30,
           30,
           40,
           85,
           0
          ],
          [
           277,
           85,
           60,
           75,
           50,
           60,
           125,
           0
          ],
          [
           278,
           30,
           30,
           55,
           30,
           40,
           85,
           0
          ],
          [
           279,
           50,
           100,
           95,
           70,
           60,
           65,
           0
          ],
          [
           280,
           25,
           25,
           45,
           35,
           28,
           40,
           0
          ],
          [
           281,
           35,
           35,
           65,
           55,
           38,
           50,
           0
          ],
          [
           282,
           85,
           65,
           165,
           135,
           68,
           100,
           0
          ],
          [
           283,
           30,
           32,
           50,
           52,
           40,
           65,
           0
          ],
          [
           284,
           60,
           62,
           100,
           82,
           70,
           80,
           0
          ],
          [
           285,
           40,
           60,
           40,
           60,
           60,
           35,
           0
          ],
          [
           286,
           130,
           80,
           60,
           60,
           60,
           70,
           0
          ],
          [
           287,
           60,
           60,
           35,
           35,
           60,
           30,
           0
          ],
          [
           288,
           80,
           80,
           55,
           55,
           80,
           90,
           0
          ],
          [
           289,
           160,
           100,
           95,
           65,
           150,
           100,
           0
          ],
          [
           290,
           45,
           90,
           30,
           30,
           31,
           40,
           0
          ],
          [
           291,
           90,
           45,
           50,
           50,
           61,
           160,
           0
          ],
          [
           292,
           90,
           45,
           30,
           30,
           1,
           40,
           0
          ],
          [
           293,
           51,
           23,
           51,
           23,
           64,
           28,
           0
          ],
          [
           294,
           71,
           43,
           71,
           43,
           84,
           48,
           0
          ],
          [
           295,
           91,
           63,
           91,
           73,
           104,
           68,
           0
          ],
          [
           296,
           60,
           30,
           20,
           30,
           72,
           25,
           0
          ],
          [
           297,
           120,
           60,
           40,
           60,
           144,
           50,
           0
          ],
          [
           298,
           20,
           40,
           20,
           40,
           50,
           20,
           0
          ],
          [
           299,
           45,
           135,
           45,
           90,
           30,
           30,
           0
          ],
          [
           300,
           45,
           45,
           35,
           35,
           50,
           50,
           0
          ],
          [
           301,
           65,
           65,
           55,
           55,
           70,
           90,
           0
          ],
          [
           302,
           85,
           125,
           85,
           115,
           50,
           20,
           0
          ],
          [
           303,
           105,
           125,
           55,
           95,
           50,
           50,
           0
          ],
          [
           304,
           70,
           100,
           40,
           40,
           50,
           30,
           0
          ],
          [
           305,
           90,
           140,
           50,
           50,
           60,
           40,
           0
          ],
          [
           307,
           40,
           55,
           40,
           55,
           30,
           60,
           0
          ],
          [
           308,
           100,
           85,
           80,
           85,
           60,
           100,
           0
          ],
          [
           309,
           45,
           40,
           65,
           40,
           40,
           65,
           0
          ],
          [
           310,
           75,
           80,
           135,
           80,
           70,
           135,
           0
          ],
          [
           311,
           50,
           40,
           85,
           75,
           60,
           95,
           0
          ],
          [
           312,
           40,
           50,
           75,
           85,
           60,
           95,
           0
          ],
          [
           313,
           73,
           75,
           47,
           85,
           65,
           85,
           0
          ],
          [
           314,
           47,
           75,
           73,
           85,
           65,
           85,
           0
          ],
          [
           315,
           60,
           45,
           100,
           80,
           50,
           65,
           0
          ],
          [
           316,
           43,
           53,
           43,
           53,
           70,
           40,
           0
          ],
          [
           317,
           73,
           83,
           73,
           83,
           100,
           55,
           0
          ],
          [
           318,
           90,
           20,
           65,
           20,
           45,
           65,
           0
          ],
          [
           319,
           140,
           70,
           110,
           65,
           70,
           105,
           0
          ],
          [
           320,
           70,
           35,
           70,
           35,
           130,
           60,
           0
          ],
          [
           321,
           90,
           45,
           90,
           45,
           170,
           60,
           0
          ],
          [
           322,
           60,
           40,
           65,
           45,
           60,
           35,
           0
          ],
          [
           323,
           120,
           100,
           145,
           105,
           70,
           20,
           0
          ],
          [
           324,
           85,
           140,
           85,
           70,
           70,
           20,
           0
          ],
          [
           325,
           25,
           35,
           70,
           80,
           60,
           60,
           0
          ],
          [
           326,
           45,
           65,
           90,
           110,
           80,
           80,
           0
          ],
          [
           327,
           60,
           60,
           60,
           60,
           60,
           60,
           0
          ],
          [
           328,
           100,
           45,
           45,
           45,
           45,
           10,
           0
          ],
          [
           329,
           70,
           50,
           50,
           50,
           50,
           70,
           0
          ],
          [
           330,
           100,
           80,
           80,
           80,
           80,
           100,
           0
          ],
          [
           331,
           85,
           40,
           85,
           40,
           50,
           35,
           0
          ],
          [
           332,
           115,
           60,
           115,
           60,
           70,
           55,
           0
          ],
          [
           333,
           40,
           60,
           40,
           75,
           45,
           50,
           0
          ],
          [
           334,
           110,
           110,
           110,
           105,
           75,
           80,
           0
          ],
          [
           335,
           115,
           60,
           60,
           60,
           73,
           90,
           0
          ],
          [
           336,
           100,
           60,
           100,
           60,
           73,
           65,
           0
          ],
          [
           337,
           55,
           65,
           95,
           85,
           90,
           70,
           0
          ],
          [
           338,
           95,
           85,
           55,
           65,
           90,
           70,
           0
          ],
          [
           339,
           48,
           43,
           46,
           41,
           50,
           60,
           0
          ],
          [
           340,
           78,
           73,
           76,
           71,
           110,
           60,
           0
          ],
          [
           341,
           80,
           65,
           50,
           35,
           43,
           35,
           0
          ],
          [
           342,
           120,
           85,
           90,
           55,
           63,
           55,
           0
          ],
          [
           343,
           40,
           55,
           40,
           70,
           40,
           55,
           0
          ],
          [
           344,
           70,
           105,
           70,
           120,
           60,
           75,
           0
          ],
          [
           345,
           41,
           77,
           61,
           87,
           66,
           23,
           0
          ],
          [
           346,
           81,
           97,
           81,
           107,
           86,
           43,
           0
          ],
          [
           347,
           95,
           50,
           40,
           50,
           45,
           75,
           0
          ],
          [
           348,
           125,
           100,
           70,
           80,
           75,
           45,
           0
          ],
          [
           349,
           15,
           20,
           10,
           55,
           20,
           80,
           0
          ],
          [
           350,
           60,
           79,
           100,
           125,
           95,
           81,
           0
          ],
          [
           351,
           70,
           70,
           70,
           70,
           70,
           70,
           0
          ],
          [
           352,
           90,
           70,
           60,
           120,
           60,
           40,
           0
          ],
          [
           353,
           75,
           35,
           63,
           33,
           44,
           45,
           0
          ],
          [
           354,
           165,
           75,
           93,
           83,
           64,
           75,
           0
          ],
          [
           355,
           40,
           90,
           30,
           90,
           20,
           25,
           0
          ],
          [
           356,
           70,
           130,
           60,
           130,
           40,
           25,
           0
          ],
          [
           357,
           68,
           83,
           72,
           87,
           99,
           51,
           0
          ],
          [
           358,
           50,
           80,
           95,
           90,
           75,
           65,
           0
          ],
          [
           359,
           150,
           60,
           115,
           60,
           65,
           115,
           0
          ],
          [
           360,
           23,
           48,
           23,
           48,
           95,
           23,
           0
          ],
          [
           361,
           50,
           50,
           50,
           50,
           50,
           50,
           0
          ],
          [
           362,
           120,
           80,
           120,
           80,
           80,
           100,
           0
          ],
          [
           363,
           40,
           50,
           55,
           50,
           70,
           25,
           0
          ],
          [
           364,
           60,
           70,
           75,
           70,
           90,
           45,
           0
          ],
          [
           365,
           80,
           90,
           95,
           90,
           110,
           65,
           0
          ],
          [
           366,
           64,
           85,
           74,
           55,
           35,
           32,
           0
          ],
          [
           367,
           104,
           105,
           94,
           75,
           55,
           52,
           0
          ],
          [
           368,
           84,
           105,
           114,
           75,
           55,
           52,
           0
          ],
          [
           369,
           90,
           130,
           45,
           65,
           100,
           55,
           0
          ],
          [
           370,
           30,
           55,
           40,
           65,
           43,
           97,
           0
          ],
          [
           371,
           75,
           60,
           40,
           30,
           45,
           50,
           0
          ],
          [
           372,
           95,
           100,
           60,
           50,
           65,
           50,
           0
          ],
          [
           373,
           145,
           130,
           120,
           90,
           95,
           120,
           0
          ],
          [
           374,
           55,
           80,
           35,
           60,
           40,
           30,
           0
          ],
          [
           375,
           75,
           100,
           55,
           80,
           60,
           50,
           0
          ],
          [
           376,
           145,
           150,
           105,
           110,
           80,
           110,
           0
          ],
          [
           377,
           100,
           200,
           50,
           100,
           80,
           50,
           1
          ],
          [
           379,
           75,
           150,
           75,
           150,
           80,
           50,
           1
          ],
          [
           380,
           100,
           120,
           140,
           150,
           80,
           110,
           1
          ],
          [
           381,
           130,
           100,
           160,
           120,
           80,
           110,
           1
          ],
          [
           382,
           150,
           90,
           180,
           160,
           100,
           90,
           1
          ],
          [
           383,
           180,
           160,
           150,
           90,
           100,
           90,
           1
          ],
          [
           384,
           180,
           100,
           180,
           100,
           105,
           115,
           1
          ],
          [
           385,
           100,
           100,
           100,
           100,
           100,
           100,
           1
          ],
          [
           386,
           95,
           90,
           95,
           90,
           50,
           180,
           1
          ]
         ],
         "hovertemplate": "<b>%{hovertext}</b><br><br>cluster=0<br>Principal Component 1=%{x}<br>Principal Component 2=%{y}<br>pokedex_number=%{customdata[0]}<br>attack=%{customdata[1]}<br>defense=%{customdata[2]}<br>sp_attack=%{customdata[3]}<br>sp_defense=%{customdata[4]}<br>hp=%{customdata[5]}<br>speed=%{customdata[6]}<br>is_legendary=%{customdata[7]}<extra></extra>",
         "hovertext": [
          "Bulbasaur",
          "Ivysaur",
          "Venusaur",
          "Charmander",
          "Charmeleon",
          "Charizard",
          "Squirtle",
          "Wartortle",
          "Blastoise",
          "Caterpie",
          "Metapod",
          "Butterfree",
          "Weedle",
          "Kakuna",
          "Beedrill",
          "Pidgey",
          "Pidgeotto",
          "Pidgeot",
          "Rattata",
          "Raticate",
          "Spearow",
          "Fearow",
          "Ekans",
          "Arbok",
          "Pikachu",
          "Raichu",
          "Sandshrew",
          "Sandslash",
          "Nidoran♀",
          "Nidorina",
          "Nidoqueen",
          "Nidoran♂",
          "Nidorino",
          "Nidoking",
          "Clefairy",
          "Clefable",
          "Vulpix",
          "Ninetales",
          "Jigglypuff",
          "Wigglytuff",
          "Zubat",
          "Golbat",
          "Oddish",
          "Gloom",
          "Vileplume",
          "Paras",
          "Parasect",
          "Venonat",
          "Venomoth",
          "Diglett",
          "Dugtrio",
          "Meowth",
          "Persian",
          "Psyduck",
          "Golduck",
          "Mankey",
          "Primeape",
          "Growlithe",
          "Arcanine",
          "Poliwag",
          "Poliwhirl",
          "Poliwrath",
          "Abra",
          "Kadabra",
          "Alakazam",
          "Machop",
          "Machoke",
          "Machamp",
          "Bellsprout",
          "Weepinbell",
          "Victreebel",
          "Tentacool",
          "Tentacruel",
          "Geodude",
          "Graveler",
          "Golem",
          "Ponyta",
          "Rapidash",
          "Slowpoke",
          "Slowbro",
          "Magnemite",
          "Magneton",
          "Farfetch'd",
          "Doduo",
          "Dodrio",
          "Seel",
          "Dewgong",
          "Grimer",
          "Muk",
          "Shellder",
          "Cloyster",
          "Gastly",
          "Haunter",
          "Gengar",
          "Onix",
          "Drowzee",
          "Hypno",
          "Krabby",
          "Kingler",
          "Voltorb",
          "Electrode",
          "Exeggcute",
          "Exeggutor",
          "Cubone",
          "Marowak",
          "Hitmonlee",
          "Hitmonchan",
          "Lickitung",
          "Koffing",
          "Weezing",
          "Rhyhorn",
          "Rhydon",
          "Tangela",
          "Kangaskhan",
          "Horsea",
          "Seadra",
          "Goldeen",
          "Seaking",
          "Staryu",
          "Starmie",
          "Mr. Mime",
          "Scyther",
          "Jynx",
          "Electabuzz",
          "Magmar",
          "Pinsir",
          "Tauros",
          "Magikarp",
          "Gyarados",
          "Lapras",
          "Ditto",
          "Eevee",
          "Vaporeon",
          "Jolteon",
          "Flareon",
          "Porygon",
          "Omanyte",
          "Omastar",
          "Kabuto",
          "Kabutops",
          "Aerodactyl",
          "Snorlax",
          "Articuno",
          "Zapdos",
          "Moltres",
          "Dratini",
          "Dragonair",
          "Dragonite",
          "Mewtwo",
          "Mew",
          "Chikorita",
          "Bayleef",
          "Meganium",
          "Cyndaquil",
          "Quilava",
          "Typhlosion",
          "Totodile",
          "Croconaw",
          "Feraligatr",
          "Sentret",
          "Furret",
          "Hoothoot",
          "Noctowl",
          "Ledyba",
          "Ledian",
          "Spinarak",
          "Ariados",
          "Crobat",
          "Chinchou",
          "Lanturn",
          "Pichu",
          "Cleffa",
          "Igglybuff",
          "Togepi",
          "Togetic",
          "Natu",
          "Xatu",
          "Mareep",
          "Flaaffy",
          "Ampharos",
          "Bellossom",
          "Marill",
          "Azumarill",
          "Sudowoodo",
          "Politoed",
          "Hoppip",
          "Skiploom",
          "Jumpluff",
          "Aipom",
          "Sunkern",
          "Sunflora",
          "Yanma",
          "Wooper",
          "Quagsire",
          "Espeon",
          "Umbreon",
          "Murkrow",
          "Slowking",
          "Misdreavus",
          "Unown",
          "Girafarig",
          "Pineco",
          "Forretress",
          "Dunsparce",
          "Gligar",
          "Snubbull",
          "Granbull",
          "Qwilfish",
          "Scizor",
          "Heracross",
          "Sneasel",
          "Teddiursa",
          "Ursaring",
          "Slugma",
          "Magcargo",
          "Swinub",
          "Piloswine",
          "Corsola",
          "Remoraid",
          "Octillery",
          "Delibird",
          "Mantine",
          "Skarmory",
          "Houndour",
          "Houndoom",
          "Kingdra",
          "Phanpy",
          "Donphan",
          "Porygon2",
          "Stantler",
          "Smeargle",
          "Tyrogue",
          "Hitmontop",
          "Smoochum",
          "Elekid",
          "Magby",
          "Miltank",
          "Raikou",
          "Entei",
          "Suicune",
          "Larvitar",
          "Pupitar",
          "Tyranitar",
          "Lugia",
          "Ho-Oh",
          "Celebi",
          "Treecko",
          "Grovyle",
          "Sceptile",
          "Torchic",
          "Combusken",
          "Blaziken",
          "Mudkip",
          "Marshtomp",
          "Swampert",
          "Poochyena",
          "Mightyena",
          "Zigzagoon",
          "Linoone",
          "Wurmple",
          "Silcoon",
          "Beautifly",
          "Cascoon",
          "Dustox",
          "Lotad",
          "Lombre",
          "Ludicolo",
          "Seedot",
          "Nuzleaf",
          "Shiftry",
          "Taillow",
          "Swellow",
          "Wingull",
          "Pelipper",
          "Ralts",
          "Kirlia",
          "Gardevoir",
          "Surskit",
          "Masquerain",
          "Shroomish",
          "Breloom",
          "Slakoth",
          "Vigoroth",
          "Slaking",
          "Nincada",
          "Ninjask",
          "Shedinja",
          "Whismur",
          "Loudred",
          "Exploud",
          "Makuhita",
          "Hariyama",
          "Azurill",
          "Nosepass",
          "Skitty",
          "Delcatty",
          "Sableye",
          "Mawile",
          "Aron",
          "Lairon",
          "Meditite",
          "Medicham",
          "Electrike",
          "Manectric",
          "Plusle",
          "Minun",
          "Volbeat",
          "Illumise",
          "Roselia",
          "Gulpin",
          "Swalot",
          "Carvanha",
          "Sharpedo",
          "Wailmer",
          "Wailord",
          "Numel",
          "Camerupt",
          "Torkoal",
          "Spoink",
          "Grumpig",
          "Spinda",
          "Trapinch",
          "Vibrava",
          "Flygon",
          "Cacnea",
          "Cacturne",
          "Swablu",
          "Altaria",
          "Zangoose",
          "Seviper",
          "Lunatone",
          "Solrock",
          "Barboach",
          "Whiscash",
          "Corphish",
          "Crawdaunt",
          "Baltoy",
          "Claydol",
          "Lileep",
          "Cradily",
          "Anorith",
          "Armaldo",
          "Feebas",
          "Milotic",
          "Castform",
          "Kecleon",
          "Shuppet",
          "Banette",
          "Duskull",
          "Dusclops",
          "Tropius",
          "Chimecho",
          "Absol",
          "Wynaut",
          "Snorunt",
          "Glalie",
          "Spheal",
          "Sealeo",
          "Walrein",
          "Clamperl",
          "Huntail",
          "Gorebyss",
          "Relicanth",
          "Luvdisc",
          "Bagon",
          "Shelgon",
          "Salamence",
          "Beldum",
          "Metang",
          "Metagross",
          "Regirock",
          "Registeel",
          "Latias",
          "Latios",
          "Kyogre",
          "Groudon",
          "Rayquaza",
          "Jirachi",
          "Deoxys"
         ],
         "legendgroup": "0",
         "marker": {
          "color": "#EF553B",
          "symbol": "circle"
         },
         "mode": "markers",
         "name": "0",
         "orientation": "v",
         "showlegend": true,
         "type": "scatter",
         "x": [
          -1.224268621759483,
          -0.0839328882214425,
          2.8152705911413003,
          -1.4127766274961373,
          -0.15492682587379417,
          3.0152785396051964,
          -1.3243733554136405,
          -0.12946473982365014,
          2.8926770181948465,
          -3.0078699106872993,
          -2.876767796211467,
          -0.20591709708906047,
          -3.0002293273439657,
          -2.8691272128681335,
          0.9476705120897378,
          -2.229064856482836,
          -0.9527963200889326,
          2.0988045512080173,
          -2.219766147457096,
          -0.07996794368398132,
          -2.1004990261109953,
          0.25170155049667065,
          -1.6737759383203932,
          0.4272119759447057,
          -1.3163272852552457,
          0.9401113875144904,
          -1.6770480356371393,
          0.28146150238072754,
          -1.9014202806324116,
          -0.7226721198637129,
          1.1470042890247398,
          -1.907419159884297,
          -0.7064092031811899,
          1.1441901513667887,
          -1.1685581209340017,
          0.9385496408862748,
          -1.5085284508529615,
          1.162980717655136,
          -1.9600050391437196,
          0.2183664696127795,
          -2.2863891161059158,
          0.4640232590210477,
          -1.1694394298115074,
          -0.19879877487196645,
          1.0664353949827037,
          -1.6637531213252088,
          -0.06586628639572152,
          -1.4663657145986932,
          0.4434713097884631,
          -2.026980953671183,
          0.0675001180882859,
          -1.745451381172971,
          0.21912888677485992,
          -1.2638508438121852,
          1.0936454777252118,
          -1.488771878593371,
          0.47580838935445985,
          -0.8634543078542655,
          1.803095869388649,
          -1.6277129157334926,
          -0.5359457811633508,
          1.219262512084023,
          -1.3292234756723882,
          -0.15047531490368962,
          2.480458785843566,
          -1.510001942209029,
          -0.16278263978498195,
          1.2095353292842894,
          -1.514884734705166,
          -0.33613657393646756,
          1.004216135045151,
          -0.9317862078827146,
          1.3860060349732681,
          -1.639348927845434,
          -0.4606007670767354,
          0.9299525519244998,
          -0.10109210937006859,
          1.07765605139863,
          -1.3759489212170688,
          2.1987523181575703,
          -1.1593134749509613,
          0.6436622447839497,
          -0.4930077111985682,
          -1.4757723739548916,
          0.6008908635658882,
          -1.1724980670585836,
          0.7920822008892473,
          -1.1865138729948692,
          1.182077765485262,
          -1.6087059610047356,
          1.1643577350209,
          -1.4032541148576791,
          -0.14370367998252062,
          2.455949725298246,
          -0.7070503765052379,
          -1.0427562808217334,
          0.9930877340623202,
          -1.3473563735796494,
          0.6172238943681814,
          -1.2209381959949874,
          0.8390409481248069,
          -1.269641290312967,
          1.5665983835416992,
          -1.348464842444045,
          0.08904614363148536,
          0.6200859512748793,
          0.5815865624160471,
          -0.38225222701275813,
          -1.0615011288612175,
          0.9030791390866134,
          -1.083156231610324,
          0.7380243173137284,
          0.0989754833100617,
          2.222316608228429,
          -1.703167341987025,
          0.18061065185434574,
          -1.3245349394545614,
          0.4672279205774728,
          -1.0369059197653243,
          1.3205904017720729,
          0.7303570592260172,
          1.0300041774725806,
          0.6352064722601276,
          0.9956548940007459,
          1.0961082530301518,
          2.3322563119080746,
          0.802155931194017,
          -3.0417917712374143,
          3.02420065567617,
          1.5860038197268924,
          -1.6958697241721996,
          -1.1823646846423543,
          1.5029307872158575,
          1.4391170374852373,
          1.6258430178340233,
          -0.20605236326484752,
          -0.8186289597538616,
          0.9820019215674467,
          -0.8815424265431682,
          0.9552955020069714,
          2.5091496788395973,
          1.7468638004621568,
          2.2285684633885348,
          2.1598998342706435,
          2.1590767267445243,
          -1.5130975103065745,
          0.058566704051689816,
          2.4647123790777252,
          4.923008224567027,
          2.390457233159289,
          -1.274218244480126,
          -0.13700436236212576,
          1.434659851996139,
          -1.4127766274961373,
          -0.15492682587379417,
          1.5450121329696715,
          -1.3745547463867251,
          -0.18467568765082243,
          1.4551923498660764,
          -2.5850538566697843,
          -0.1436888019483115,
          -2.0148118476771626,
          0.5514448837872907,
          -1.8941170350109817,
          -0.24918310772745797,
          -2.163803086853918,
          -0.1730001983348646,
          1.434038253876344,
          -1.1581918065695498,
          0.5550078772373346,
          -2.7745088800554116,
          -2.5073540401431234,
          -2.733129678113566,
          -2.2001830567492826,
          -0.02025475822028658,
          -1.2878396093195714,
          0.6767406586282595,
          -1.7606051816171469,
          -0.6378985056349227,
          2.7275843560377684,
          1.054293935122776,
          -2.243790753815451,
          0.0320671224484934,
          -0.15616986879014563,
          1.1704887960632109,
          -2.170463422883786,
          -1.03856490702725,
          0.5278516849271697,
          -0.8187181117607264,
          -3.1103675170946374,
          0.2880726726193573,
          -0.42700579514630965,
          -2.7542318796840117,
          0.16493060988662003,
          1.5000060860842308,
          1.4858024915987975,
          -0.19932048959974946,
          1.1428936844585558,
          0.28766633358854593,
          -1.0264253877168865,
          0.48609123610099264,
          -1.7373443712056658,
          0.5055083459222747,
          -0.0336111247586459,
          0.01827188056632946,
          -1.5358778754843265,
          0.4301151060895275,
          0.19191965338874944,
          2.3729763223533547,
          2.4185146442405347,
          0.11049526224090775,
          -1.1196628638260118,
          1.1348037851077932,
          -2.121118867444066,
          0.19311770548208426,
          -2.2582763665791483,
          0.39089625760899377,
          -0.013871113348897925,
          -1.5443971342170832,
          0.9264334770617526,
          -1.1739078135449328,
          1.0803480083302324,
          0.4599986992603761,
          -1.090156914552185,
          2.4146193149774984,
          1.641657270933762,
          -1.2195998102793524,
          0.987046999400199,
          1.3656118510934172,
          0.6226164055985107,
          -2.282116808221915,
          -2.7174514635050713,
          0.5560235018302797,
          -1.3526727537564518,
          -0.7680583928699356,
          -0.6676050338405298,
          0.7723675877215873,
          2.1675885401398634,
          2.0644170730196385,
          2.148156460961695,
          -1.5198710174440746,
          -0.06028977265875881,
          3.7469158056780882,
          3.5033368436273267,
          3.6646205588072176,
          2.390457233159289,
          -1.3770116108735522,
          -0.14411990914528264,
          2.7862312848868256,
          -1.3455413678984847,
          -0.1115748298694307,
          2.8468575978472948,
          -1.3779709796747857,
          -0.1291210519205497,
          2.9378963369755233,
          -2.5967021919132183,
          0.0016441621710621256,
          -2.376393352077126,
          -0.06394696687541569,
          -2.9218613169308494,
          -2.8402807810949886,
          -0.2632256168486792,
          -2.8402807810949886,
          -0.3796422266496762,
          -2.522730457264846,
          -0.9510662429065814,
          0.9247300135370491,
          -2.6294414419017764,
          -1.0403901354783944,
          0.8102092190695841,
          -2.030991599118743,
          0.368873915055846,
          -2.0156919802307987,
          0.2724493383666208,
          -2.851929439507517,
          -1.7619652902430192,
          2.898227461246532,
          -1.9333298643100862,
          0.5410969906127787,
          -1.5909488998690406,
          0.5366832575806723,
          -1.8494502094895016,
          0.17054588316055858,
          3.1815257930389835,
          -2.1136291530603732,
          0.31827597448377204,
          -2.3663865617513813,
          -2.323598189723183,
          -0.7519339753649187,
          0.9813347872062661,
          -2.3877315847694294,
          0.6924006690931768,
          -2.9846711599093245,
          -0.5535932309760874,
          -2.1187596788590777,
          -0.3229295253549151,
          0.9865676901330869,
          0.8448403134432928,
          -1.2376410929728816,
          0.01852559953965008,
          -1.8128996484736677,
          1.208430075460928,
          -1.6198054281433847,
          2.0290462750605545,
          -0.12088085071278079,
          -0.1269024630175308,
          0.15130550135951937,
          0.1672171050029812,
          -0.0923745778947148,
          -1.5203658730136207,
          0.6690059941643529,
          -1.4908478407198529,
          1.8694125307314122,
          -0.30291658835939544,
          1.0154690980310195,
          -1.4268396542168578,
          2.1230833571481815,
          0.6701116317460241,
          -1.0428338165495026,
          0.801743925693726,
          -0.7528711955572405,
          -1.573667695086286,
          -1.041722070955939,
          1.315774250581458,
          -1.0034682943167619,
          0.8471310602312164,
          -1.3632683274874957,
          2.3325865141528435,
          0.4920903782975382,
          0.5773814603790465,
          0.6152214483734736,
          0.49015092107101077,
          -1.7342732391379148,
          0.6526755822751533,
          -1.4583784996273608,
          0.6711559951103316,
          -1.5046338414092562,
          1.1647060967936136,
          -0.7138021342564543,
          1.1306773727363466,
          -0.8481391990144929,
          1.0594772644292982,
          -2.8688172051219363,
          1.7411812841568688,
          0.03296091162189167,
          0.5131220731982298,
          -1.5832714128844312,
          1.9052883931229523,
          -1.5144206577855672,
          0.6578398133864414,
          0.5941680061213123,
          0.5558911797456322,
          1.9361054050135955,
          -2.1004827917807787,
          -1.5387033027363728,
          2.158699518705777,
          -1.6402536869867788,
          -0.06858947262851409,
          1.5030747417297508,
          -0.9198829591682817,
          0.9245965478245192,
          0.9368362429348743,
          0.7340860277362103,
          -1.2145251487671471,
          -1.6130620323351976,
          -0.042945797778743286,
          3.6248847245152427,
          -1.53482564183476,
          0.03683857252350485,
          3.661986865606294,
          1.9866937735897416,
          2.253471235182067,
          3.8594899395676965,
          3.8463362622815445,
          4.958950755757723,
          4.588522233306056,
          4.851013043802175,
          2.390457233159289,
          2.2652375441055304
         ],
         "xaxis": "x",
         "y": [
          0.11389582060504413,
          0.18717367234138932,
          -0.38115993897758926,
          0.7027610423009745,
          0.7932362323302151,
          1.2910222752080818,
          -0.3646303397225073,
          -0.3209369634173642,
          -0.23027232435403408,
          0.11933788895051903,
          -0.5391217940371273,
          0.8305390086125481,
          0.3313603552954838,
          -0.3270993276921625,
          1.5129865518124106,
          0.35801146415751633,
          0.36286230523036367,
          1.680091232773394,
          0.7237579342709818,
          -0.07482661739920317,
          0.7728325580588262,
          0.8025896857464124,
          0.21806871148987805,
          0.2540014037775779,
          1.2447380662055338,
          1.6320822620392221,
          -1.3556264470529926,
          -1.4873909428104486,
          -0.259241011808888,
          -0.2124129378005427,
          -0.2234365805476466,
          0.1722688923877019,
          0.183043050030531,
          0.30736939065701235,
          -0.2678298456351116,
          -0.08578004927963954,
          0.6573911065754198,
          0.973034214689121,
          -0.37994041429309455,
          -0.1458891147668406,
          0.35712947264259587,
          0.4663949786620682,
          -0.2446011930513394,
          -0.35081008740735714,
          -0.3166879607670409,
          -0.6737288430366452,
          -1.1665208742026691,
          -0.23676744678938413,
          0.9960789935175571,
          1.415855479960212,
          1.0988273235567567,
          1.4242122590190782,
          1.502259049032987,
          0.37349115185247106,
          0.4671472998691617,
          0.5961850063844123,
          0.6742317963983212,
          0.49424133678925714,
          0.5461217792908544,
          1.1669033151744108,
          0.5945353904022547,
          -0.5880122114658778,
          2.4516259503481774,
          2.4984540243565228,
          3.238314728269469,
          -0.6172496888002015,
          -0.8034336147256794,
          -0.851462056549785,
          0.2755477795640943,
          0.3223758535724397,
          0.3378569505487631,
          0.7482375331254721,
          0.8207691170048123,
          -1.747637850213538,
          -1.7008097762051926,
          -1.9329512864888136,
          0.8782681324957885,
          0.9250962065041337,
          -1.3599337974746035,
          -2.3406178467279237,
          0.24258851397927286,
          0.35198228102520357,
          0.08306504181176746,
          0.5691500770200272,
          0.8806147744531208,
          -0.30604287293890337,
          -0.22799608292499454,
          -0.89815809976601,
          -0.8984787523321561,
          -0.9934813495881267,
          -1.6133515861663843,
          1.8690892039068838,
          1.900243789399218,
          2.3910130973769683,
          -1.5355511570047164,
          -0.26569167740261074,
          -0.13564338421792024,
          -0.9562562639293232,
          -0.8782094739154144,
          1.4132638801827444,
          2.212283049106196,
          -0.5917610096772582,
          -0.44060026607052266,
          -1.1921963938841964,
          -1.3980346183088852,
          0.24382691892502925,
          -0.41846254539847166,
          -1.049670827376149,
          -0.9792164981049999,
          -0.9011697080910911,
          -1.771737319130749,
          -2.0839926612979847,
          -0.41359013452715837,
          -0.3182928684283847,
          0.37945597090241706,
          0.4731762494323369,
          -0.005042415434595536,
          -0.049435803118495686,
          1.1183071322325804,
          1.211963280249271,
          1.1105286312617662,
          0.4164692405117492,
          1.8501823807599667,
          1.3713716500108786,
          1.0927347470071878,
          -0.39523072667228804,
          0.15399461614116972,
          0.7391669464675705,
          -0.9879381929334158,
          -0.5784667920986375,
          0.0669028486091467,
          0.04354075735324648,
          0.24301703657244336,
          2.101298452398065,
          0.10731544389262794,
          -0.3559888091289389,
          -0.6571682321259141,
          -0.6958979110958435,
          -0.4849470009435624,
          -0.4509850069253125,
          1.3279422914637073,
          -1.5260424876696193,
          -0.13561294728285084,
          0.8855846763609602,
          0.5355913688177869,
          0.1515460329597926,
          0.2139834649709196,
          -0.24342439730317725,
          2.376601439211542,
          0.22924017183807696,
          -0.34094032046558703,
          -0.2960897275461563,
          -0.23365229553502934,
          0.7027610423009745,
          0.7932362323302151,
          0.949276370048749,
          -0.4619269129296306,
          -0.4331257971040435,
          -0.3917454139560209,
          -0.38345386967495687,
          0.3936187670606456,
          0.3010300146510656,
          0.5078394292840934,
          0.5311646060853842,
          0.790964284760683,
          -0.2757182270669068,
          -0.7529009002301492,
          1.1615394022704155,
          0.6492322145497152,
          0.08741920821435566,
          1.0280527128959926,
          -0.3096127515074791,
          -0.2484925922309224,
          -0.8434853701455777,
          -0.635735879515368,
          0.9062682399309293,
          0.9843150299448382,
          0.09084563767894194,
          0.020964757977694832,
          -0.4264919556606137,
          -0.7363105323097707,
          -0.45088112379373324,
          -0.7200577842738489,
          -2.1359815541083376,
          0.033414183292807105,
          0.22361663395285677,
          0.6691996236274174,
          0.8718190774103528,
          0.5698340159689371,
          0.010709159799132261,
          -0.2579859959143332,
          1.3474645121369286,
          -0.840500088238532,
          -1.1824610390546473,
          1.8424686502428222,
          -1.1044099297925525,
          1.3635928983009673,
          -0.9439719785728676,
          0.869550149637638,
          0.21543622928599707,
          0.7574110793368827,
          -1.6370496020208374,
          -2.0096767665758817,
          -0.6417033828894635,
          -0.4883909634042491,
          -0.6451590866856508,
          -0.9262651359196971,
          0.02727299451364367,
          -1.4925493113386086,
          -1.5174272443506784,
          1.0501070366761436,
          -0.3390851499569247,
          -0.6259772822624093,
          -0.11289892000898392,
          -1.3860767427203637,
          0.10810411501875804,
          -0.8679343188408498,
          -1.1730146352915503,
          0.9122389659055313,
          -0.36339361458732317,
          0.9236828710219495,
          0.06779317236336405,
          -1.4541903951378943,
          1.079943308477366,
          1.3802885678423504,
          0.08515598875485525,
          -0.6651971891497466,
          -1.6207693004342196,
          -0.2935513771178118,
          0.6805778417742503,
          0.7308667251848548,
          0.026318517801914066,
          -0.8048305230479036,
          1.481671012020113,
          1.469696096109395,
          1.1910591931057042,
          -0.2804077599919232,
          1.301688184806838,
          0.33213052247456837,
          -0.4370292896061458,
          -0.24789076485448108,
          -0.41887124026253886,
          -1.7332453514980275,
          -0.34079617551537833,
          -0.04700404126513224,
          0.22924017183807696,
          1.0242463904188115,
          1.4674808761685065,
          2.3606292296603373,
          0.32883490546985206,
          0.14237862564461623,
          0.8167408045634642,
          -0.24449951106134332,
          -0.49842594394785983,
          -0.945202101080907,
          -0.09423769230527446,
          -0.021300200940572812,
          0.4362074343756252,
          0.776309403433959,
          -0.5587250032187784,
          -0.9524198017552179,
          0.8065887480250626,
          -0.9524198017552179,
          -0.11512516001358614,
          -0.0004533290927207453,
          0.06198410291840631,
          0.19707756423907463,
          -0.44441564275161144,
          0.4330127866394478,
          0.5573391272659292,
          1.1367508651197538,
          1.7036479482693685,
          1.5020436252891842,
          -0.12522642289525107,
          0.5061442362254207,
          0.6100189815405253,
          1.6575689081740006,
          0.8781890414440685,
          0.8297243410151085,
          -0.6029572779628478,
          -0.3175546325036174,
          -0.7775284877155848,
          0.21858057397228153,
          -0.22808920392474344,
          -0.9059087244534206,
          2.504703278143937,
          -0.12679442248912842,
          0.06372063763339528,
          0.1261580696445225,
          0.15724852462362757,
          -0.5567255663420144,
          -1.0305041444664704,
          -0.6011572974337548,
          -1.9773699486595704,
          0.07535438762284245,
          0.6046276344723391,
          -1.9662731647085567,
          -1.5995627028640658,
          -1.4519213569279754,
          -2.0036254841313648,
          0.24381039352303308,
          0.5485451621218448,
          0.8644231113434614,
          2.096146355543541,
          1.5369682954702162,
          1.2634628279952589,
          0.12295025516956803,
          0.5028547257457757,
          0.8972682467383685,
          -0.3720216016362992,
          -0.6284923147483858,
          1.0719070187100412,
          1.0894335295873345,
          0.3279948253945782,
          0.03026991908819393,
          -0.01961832835816214,
          -1.1125766194386784,
          -2.2005592231445745,
          0.7437476567040264,
          0.5945685298555503,
          0.10436530781582287,
          -0.9910529796538186,
          0.455754211196211,
          0.5494103592129015,
          0.1512474696948254,
          0.2755738103213067,
          -0.22114357062804488,
          -0.2404709518050994,
          0.5047784890590438,
          0.40041689246664836,
          0.3969339292916208,
          -0.4853796965705865,
          0.4277871028461872,
          -0.3362250949027938,
          -0.5899763908719229,
          -0.40376114163008714,
          0.02760943309603531,
          -0.4829139028562929,
          -1.0914419151161783,
          -1.1132326785574689,
          0.38941068483340396,
          -1.2779797753201765,
          1.1873375112181417,
          0.2806369884890135,
          0.1355840238213864,
          -0.8571642442208867,
          0.34153346042660937,
          -0.00798697263620649,
          -1.3653417036249156,
          -2.1310842955560103,
          -0.7184943661829832,
          0.09391147494180876,
          1.5549176833793705,
          -0.9179804349732514,
          0.07314659181025938,
          0.8811941891267367,
          -0.521225658179457,
          -0.45878822616832976,
          -0.39635079415720276,
          -0.7242678762997006,
          -0.7460586397409914,
          -0.4538244316054469,
          -1.7821371745713102,
          1.0500107681480197,
          -0.22748151602567732,
          -0.9924190625080822,
          0.23134256172559745,
          -1.0904349627489527,
          -1.0279975307378255,
          -0.5026056611710802,
          -3.1556171329027305,
          -2.045711348755504,
          0.46633913814698735,
          1.0025829524027154,
          0.6094635461558028,
          -0.8713459996164279,
          1.0482425313050026,
          0.22924017183807696,
          2.5396132415903434
         ],
         "yaxis": "y"
        }
       ],
       "layout": {
        "legend": {
         "title": {
          "text": "cluster"
         },
         "tracegroupgap": 0
        },
        "template": {
         "data": {
          "bar": [
           {
            "error_x": {
             "color": "#2a3f5f"
            },
            "error_y": {
             "color": "#2a3f5f"
            },
            "marker": {
             "line": {
              "color": "#E5ECF6",
              "width": 0.5
             },
             "pattern": {
              "fillmode": "overlay",
              "size": 10,
              "solidity": 0.2
             }
            },
            "type": "bar"
           }
          ],
          "barpolar": [
           {
            "marker": {
             "line": {
              "color": "#E5ECF6",
              "width": 0.5
             },
             "pattern": {
              "fillmode": "overlay",
              "size": 10,
              "solidity": 0.2
             }
            },
            "type": "barpolar"
           }
          ],
          "carpet": [
           {
            "aaxis": {
             "endlinecolor": "#2a3f5f",
             "gridcolor": "white",
             "linecolor": "white",
             "minorgridcolor": "white",
             "startlinecolor": "#2a3f5f"
            },
            "baxis": {
             "endlinecolor": "#2a3f5f",
             "gridcolor": "white",
             "linecolor": "white",
             "minorgridcolor": "white",
             "startlinecolor": "#2a3f5f"
            },
            "type": "carpet"
           }
          ],
          "choropleth": [
           {
            "colorbar": {
             "outlinewidth": 0,
             "ticks": ""
            },
            "type": "choropleth"
           }
          ],
          "contour": [
           {
            "colorbar": {
             "outlinewidth": 0,
             "ticks": ""
            },
            "colorscale": [
             [
              0,
              "#0d0887"
             ],
             [
              0.1111111111111111,
              "#46039f"
             ],
             [
              0.2222222222222222,
              "#7201a8"
             ],
             [
              0.3333333333333333,
              "#9c179e"
             ],
             [
              0.4444444444444444,
              "#bd3786"
             ],
             [
              0.5555555555555556,
              "#d8576b"
             ],
             [
              0.6666666666666666,
              "#ed7953"
             ],
             [
              0.7777777777777778,
              "#fb9f3a"
             ],
             [
              0.8888888888888888,
              "#fdca26"
             ],
             [
              1,
              "#f0f921"
             ]
            ],
            "type": "contour"
           }
          ],
          "contourcarpet": [
           {
            "colorbar": {
             "outlinewidth": 0,
             "ticks": ""
            },
            "type": "contourcarpet"
           }
          ],
          "heatmap": [
           {
            "colorbar": {
             "outlinewidth": 0,
             "ticks": ""
            },
            "colorscale": [
             [
              0,
              "#0d0887"
             ],
             [
              0.1111111111111111,
              "#46039f"
             ],
             [
              0.2222222222222222,
              "#7201a8"
             ],
             [
              0.3333333333333333,
              "#9c179e"
             ],
             [
              0.4444444444444444,
              "#bd3786"
             ],
             [
              0.5555555555555556,
              "#d8576b"
             ],
             [
              0.6666666666666666,
              "#ed7953"
             ],
             [
              0.7777777777777778,
              "#fb9f3a"
             ],
             [
              0.8888888888888888,
              "#fdca26"
             ],
             [
              1,
              "#f0f921"
             ]
            ],
            "type": "heatmap"
           }
          ],
          "heatmapgl": [
           {
            "colorbar": {
             "outlinewidth": 0,
             "ticks": ""
            },
            "colorscale": [
             [
              0,
              "#0d0887"
             ],
             [
              0.1111111111111111,
              "#46039f"
             ],
             [
              0.2222222222222222,
              "#7201a8"
             ],
             [
              0.3333333333333333,
              "#9c179e"
             ],
             [
              0.4444444444444444,
              "#bd3786"
             ],
             [
              0.5555555555555556,
              "#d8576b"
             ],
             [
              0.6666666666666666,
              "#ed7953"
             ],
             [
              0.7777777777777778,
              "#fb9f3a"
             ],
             [
              0.8888888888888888,
              "#fdca26"
             ],
             [
              1,
              "#f0f921"
             ]
            ],
            "type": "heatmapgl"
           }
          ],
          "histogram": [
           {
            "marker": {
             "pattern": {
              "fillmode": "overlay",
              "size": 10,
              "solidity": 0.2
             }
            },
            "type": "histogram"
           }
          ],
          "histogram2d": [
           {
            "colorbar": {
             "outlinewidth": 0,
             "ticks": ""
            },
            "colorscale": [
             [
              0,
              "#0d0887"
             ],
             [
              0.1111111111111111,
              "#46039f"
             ],
             [
              0.2222222222222222,
              "#7201a8"
             ],
             [
              0.3333333333333333,
              "#9c179e"
             ],
             [
              0.4444444444444444,
              "#bd3786"
             ],
             [
              0.5555555555555556,
              "#d8576b"
             ],
             [
              0.6666666666666666,
              "#ed7953"
             ],
             [
              0.7777777777777778,
              "#fb9f3a"
             ],
             [
              0.8888888888888888,
              "#fdca26"
             ],
             [
              1,
              "#f0f921"
             ]
            ],
            "type": "histogram2d"
           }
          ],
          "histogram2dcontour": [
           {
            "colorbar": {
             "outlinewidth": 0,
             "ticks": ""
            },
            "colorscale": [
             [
              0,
              "#0d0887"
             ],
             [
              0.1111111111111111,
              "#46039f"
             ],
             [
              0.2222222222222222,
              "#7201a8"
             ],
             [
              0.3333333333333333,
              "#9c179e"
             ],
             [
              0.4444444444444444,
              "#bd3786"
             ],
             [
              0.5555555555555556,
              "#d8576b"
             ],
             [
              0.6666666666666666,
              "#ed7953"
             ],
             [
              0.7777777777777778,
              "#fb9f3a"
             ],
             [
              0.8888888888888888,
              "#fdca26"
             ],
             [
              1,
              "#f0f921"
             ]
            ],
            "type": "histogram2dcontour"
           }
          ],
          "mesh3d": [
           {
            "colorbar": {
             "outlinewidth": 0,
             "ticks": ""
            },
            "type": "mesh3d"
           }
          ],
          "parcoords": [
           {
            "line": {
             "colorbar": {
              "outlinewidth": 0,
              "ticks": ""
             }
            },
            "type": "parcoords"
           }
          ],
          "pie": [
           {
            "automargin": true,
            "type": "pie"
           }
          ],
          "scatter": [
           {
            "fillpattern": {
             "fillmode": "overlay",
             "size": 10,
             "solidity": 0.2
            },
            "type": "scatter"
           }
          ],
          "scatter3d": [
           {
            "line": {
             "colorbar": {
              "outlinewidth": 0,
              "ticks": ""
             }
            },
            "marker": {
             "colorbar": {
              "outlinewidth": 0,
              "ticks": ""
             }
            },
            "type": "scatter3d"
           }
          ],
          "scattercarpet": [
           {
            "marker": {
             "colorbar": {
              "outlinewidth": 0,
              "ticks": ""
             }
            },
            "type": "scattercarpet"
           }
          ],
          "scattergeo": [
           {
            "marker": {
             "colorbar": {
              "outlinewidth": 0,
              "ticks": ""
             }
            },
            "type": "scattergeo"
           }
          ],
          "scattergl": [
           {
            "marker": {
             "colorbar": {
              "outlinewidth": 0,
              "ticks": ""
             }
            },
            "type": "scattergl"
           }
          ],
          "scattermapbox": [
           {
            "marker": {
             "colorbar": {
              "outlinewidth": 0,
              "ticks": ""
             }
            },
            "type": "scattermapbox"
           }
          ],
          "scatterpolar": [
           {
            "marker": {
             "colorbar": {
              "outlinewidth": 0,
              "ticks": ""
             }
            },
            "type": "scatterpolar"
           }
          ],
          "scatterpolargl": [
           {
            "marker": {
             "colorbar": {
              "outlinewidth": 0,
              "ticks": ""
             }
            },
            "type": "scatterpolargl"
           }
          ],
          "scatterternary": [
           {
            "marker": {
             "colorbar": {
              "outlinewidth": 0,
              "ticks": ""
             }
            },
            "type": "scatterternary"
           }
          ],
          "surface": [
           {
            "colorbar": {
             "outlinewidth": 0,
             "ticks": ""
            },
            "colorscale": [
             [
              0,
              "#0d0887"
             ],
             [
              0.1111111111111111,
              "#46039f"
             ],
             [
              0.2222222222222222,
              "#7201a8"
             ],
             [
              0.3333333333333333,
              "#9c179e"
             ],
             [
              0.4444444444444444,
              "#bd3786"
             ],
             [
              0.5555555555555556,
              "#d8576b"
             ],
             [
              0.6666666666666666,
              "#ed7953"
             ],
             [
              0.7777777777777778,
              "#fb9f3a"
             ],
             [
              0.8888888888888888,
              "#fdca26"
             ],
             [
              1,
              "#f0f921"
             ]
            ],
            "type": "surface"
           }
          ],
          "table": [
           {
            "cells": {
             "fill": {
              "color": "#EBF0F8"
             },
             "line": {
              "color": "white"
             }
            },
            "header": {
             "fill": {
              "color": "#C8D4E3"
             },
             "line": {
              "color": "white"
             }
            },
            "type": "table"
           }
          ]
         },
         "layout": {
          "annotationdefaults": {
           "arrowcolor": "#2a3f5f",
           "arrowhead": 0,
           "arrowwidth": 1
          },
          "autotypenumbers": "strict",
          "coloraxis": {
           "colorbar": {
            "outlinewidth": 0,
            "ticks": ""
           }
          },
          "colorscale": {
           "diverging": [
            [
             0,
             "#8e0152"
            ],
            [
             0.1,
             "#c51b7d"
            ],
            [
             0.2,
             "#de77ae"
            ],
            [
             0.3,
             "#f1b6da"
            ],
            [
             0.4,
             "#fde0ef"
            ],
            [
             0.5,
             "#f7f7f7"
            ],
            [
             0.6,
             "#e6f5d0"
            ],
            [
             0.7,
             "#b8e186"
            ],
            [
             0.8,
             "#7fbc41"
            ],
            [
             0.9,
             "#4d9221"
            ],
            [
             1,
             "#276419"
            ]
           ],
           "sequential": [
            [
             0,
             "#0d0887"
            ],
            [
             0.1111111111111111,
             "#46039f"
            ],
            [
             0.2222222222222222,
             "#7201a8"
            ],
            [
             0.3333333333333333,
             "#9c179e"
            ],
            [
             0.4444444444444444,
             "#bd3786"
            ],
            [
             0.5555555555555556,
             "#d8576b"
            ],
            [
             0.6666666666666666,
             "#ed7953"
            ],
            [
             0.7777777777777778,
             "#fb9f3a"
            ],
            [
             0.8888888888888888,
             "#fdca26"
            ],
            [
             1,
             "#f0f921"
            ]
           ],
           "sequentialminus": [
            [
             0,
             "#0d0887"
            ],
            [
             0.1111111111111111,
             "#46039f"
            ],
            [
             0.2222222222222222,
             "#7201a8"
            ],
            [
             0.3333333333333333,
             "#9c179e"
            ],
            [
             0.4444444444444444,
             "#bd3786"
            ],
            [
             0.5555555555555556,
             "#d8576b"
            ],
            [
             0.6666666666666666,
             "#ed7953"
            ],
            [
             0.7777777777777778,
             "#fb9f3a"
            ],
            [
             0.8888888888888888,
             "#fdca26"
            ],
            [
             1,
             "#f0f921"
            ]
           ]
          },
          "colorway": [
           "#636efa",
           "#EF553B",
           "#00cc96",
           "#ab63fa",
           "#FFA15A",
           "#19d3f3",
           "#FF6692",
           "#B6E880",
           "#FF97FF",
           "#FECB52"
          ],
          "font": {
           "color": "#2a3f5f"
          },
          "geo": {
           "bgcolor": "white",
           "lakecolor": "white",
           "landcolor": "#E5ECF6",
           "showlakes": true,
           "showland": true,
           "subunitcolor": "white"
          },
          "hoverlabel": {
           "align": "left"
          },
          "hovermode": "closest",
          "mapbox": {
           "style": "light"
          },
          "paper_bgcolor": "white",
          "plot_bgcolor": "#E5ECF6",
          "polar": {
           "angularaxis": {
            "gridcolor": "white",
            "linecolor": "white",
            "ticks": ""
           },
           "bgcolor": "#E5ECF6",
           "radialaxis": {
            "gridcolor": "white",
            "linecolor": "white",
            "ticks": ""
           }
          },
          "scene": {
           "xaxis": {
            "backgroundcolor": "#E5ECF6",
            "gridcolor": "white",
            "gridwidth": 2,
            "linecolor": "white",
            "showbackground": true,
            "ticks": "",
            "zerolinecolor": "white"
           },
           "yaxis": {
            "backgroundcolor": "#E5ECF6",
            "gridcolor": "white",
            "gridwidth": 2,
            "linecolor": "white",
            "showbackground": true,
            "ticks": "",
            "zerolinecolor": "white"
           },
           "zaxis": {
            "backgroundcolor": "#E5ECF6",
            "gridcolor": "white",
            "gridwidth": 2,
            "linecolor": "white",
            "showbackground": true,
            "ticks": "",
            "zerolinecolor": "white"
           }
          },
          "shapedefaults": {
           "line": {
            "color": "#2a3f5f"
           }
          },
          "ternary": {
           "aaxis": {
            "gridcolor": "white",
            "linecolor": "white",
            "ticks": ""
           },
           "baxis": {
            "gridcolor": "white",
            "linecolor": "white",
            "ticks": ""
           },
           "bgcolor": "#E5ECF6",
           "caxis": {
            "gridcolor": "white",
            "linecolor": "white",
            "ticks": ""
           }
          },
          "title": {
           "x": 0.05
          },
          "xaxis": {
           "automargin": true,
           "gridcolor": "white",
           "linecolor": "white",
           "ticks": "",
           "title": {
            "standoff": 15
           },
           "zerolinecolor": "white",
           "zerolinewidth": 2
          },
          "yaxis": {
           "automargin": true,
           "gridcolor": "white",
           "linecolor": "white",
           "ticks": "",
           "title": {
            "standoff": 15
           },
           "zerolinecolor": "white",
           "zerolinewidth": 2
          }
         }
        },
        "title": {
         "text": "PCA of Pokémon Clusters"
        },
        "xaxis": {
         "anchor": "y",
         "domain": [
          0,
          1
         ],
         "title": {
          "text": "Principal Component 1"
         }
        },
        "yaxis": {
         "anchor": "x",
         "domain": [
          0,
          1
         ],
         "title": {
          "text": "Principal Component 2"
         }
        }
       }
      }
     },
     "metadata": {},
     "output_type": "display_data"
    }
   ],
   "source": [
    "interactive_plot(df1_details)"
   ]
  },
  {
   "cell_type": "code",
   "execution_count": 165,
   "metadata": {},
   "outputs": [
    {
     "data": {
      "text/html": [
       "<div>\n",
       "<style scoped>\n",
       "    .dataframe tbody tr th:only-of-type {\n",
       "        vertical-align: middle;\n",
       "    }\n",
       "\n",
       "    .dataframe tbody tr th {\n",
       "        vertical-align: top;\n",
       "    }\n",
       "\n",
       "    .dataframe thead th {\n",
       "        text-align: right;\n",
       "    }\n",
       "</style>\n",
       "<table border=\"1\" class=\"dataframe\">\n",
       "  <thead>\n",
       "    <tr style=\"text-align: right;\">\n",
       "      <th></th>\n",
       "      <th>PC1</th>\n",
       "      <th>PC2</th>\n",
       "      <th>cluster</th>\n",
       "      <th>name</th>\n",
       "      <th>attack</th>\n",
       "      <th>defense</th>\n",
       "      <th>sp_attack</th>\n",
       "      <th>sp_defense</th>\n",
       "      <th>hp</th>\n",
       "      <th>speed</th>\n",
       "      <th>is_legendary</th>\n",
       "    </tr>\n",
       "    <tr>\n",
       "      <th>pokedex_number</th>\n",
       "      <th></th>\n",
       "      <th></th>\n",
       "      <th></th>\n",
       "      <th></th>\n",
       "      <th></th>\n",
       "      <th></th>\n",
       "      <th></th>\n",
       "      <th></th>\n",
       "      <th></th>\n",
       "      <th></th>\n",
       "      <th></th>\n",
       "    </tr>\n",
       "  </thead>\n",
       "  <tbody>\n",
       "    <tr>\n",
       "      <th>113</th>\n",
       "      <td>0.459615</td>\n",
       "      <td>-0.303971</td>\n",
       "      <td>-1</td>\n",
       "      <td>Chansey</td>\n",
       "      <td>5</td>\n",
       "      <td>5</td>\n",
       "      <td>35</td>\n",
       "      <td>105</td>\n",
       "      <td>250</td>\n",
       "      <td>50</td>\n",
       "      <td>0</td>\n",
       "    </tr>\n",
       "    <tr>\n",
       "      <th>202</th>\n",
       "      <td>-0.278497</td>\n",
       "      <td>-1.332770</td>\n",
       "      <td>-1</td>\n",
       "      <td>Wobbuffet</td>\n",
       "      <td>33</td>\n",
       "      <td>58</td>\n",
       "      <td>33</td>\n",
       "      <td>58</td>\n",
       "      <td>190</td>\n",
       "      <td>33</td>\n",
       "      <td>0</td>\n",
       "    </tr>\n",
       "    <tr>\n",
       "      <th>208</th>\n",
       "      <td>2.366985</td>\n",
       "      <td>-4.174636</td>\n",
       "      <td>-1</td>\n",
       "      <td>Steelix</td>\n",
       "      <td>125</td>\n",
       "      <td>230</td>\n",
       "      <td>55</td>\n",
       "      <td>95</td>\n",
       "      <td>75</td>\n",
       "      <td>30</td>\n",
       "      <td>0</td>\n",
       "    </tr>\n",
       "    <tr>\n",
       "      <th>213</th>\n",
       "      <td>1.387925</td>\n",
       "      <td>-4.876473</td>\n",
       "      <td>-1</td>\n",
       "      <td>Shuckle</td>\n",
       "      <td>10</td>\n",
       "      <td>230</td>\n",
       "      <td>10</td>\n",
       "      <td>230</td>\n",
       "      <td>20</td>\n",
       "      <td>5</td>\n",
       "      <td>0</td>\n",
       "    </tr>\n",
       "    <tr>\n",
       "      <th>242</th>\n",
       "      <td>1.755389</td>\n",
       "      <td>-0.002718</td>\n",
       "      <td>-1</td>\n",
       "      <td>Blissey</td>\n",
       "      <td>10</td>\n",
       "      <td>10</td>\n",
       "      <td>75</td>\n",
       "      <td>135</td>\n",
       "      <td>255</td>\n",
       "      <td>55</td>\n",
       "      <td>0</td>\n",
       "    </tr>\n",
       "    <tr>\n",
       "      <th>306</th>\n",
       "      <td>2.563669</td>\n",
       "      <td>-3.645714</td>\n",
       "      <td>-1</td>\n",
       "      <td>Aggron</td>\n",
       "      <td>140</td>\n",
       "      <td>230</td>\n",
       "      <td>60</td>\n",
       "      <td>80</td>\n",
       "      <td>70</td>\n",
       "      <td>50</td>\n",
       "      <td>0</td>\n",
       "    </tr>\n",
       "    <tr>\n",
       "      <th>378</th>\n",
       "      <td>2.520249</td>\n",
       "      <td>-0.935806</td>\n",
       "      <td>-1</td>\n",
       "      <td>Regice</td>\n",
       "      <td>50</td>\n",
       "      <td>100</td>\n",
       "      <td>100</td>\n",
       "      <td>200</td>\n",
       "      <td>80</td>\n",
       "      <td>50</td>\n",
       "      <td>1</td>\n",
       "    </tr>\n",
       "  </tbody>\n",
       "</table>\n",
       "</div>"
      ],
      "text/plain": [
       "                     PC1       PC2  cluster       name  attack  defense  \\\n",
       "pokedex_number                                                            \n",
       "113             0.459615 -0.303971       -1    Chansey       5        5   \n",
       "202            -0.278497 -1.332770       -1  Wobbuffet      33       58   \n",
       "208             2.366985 -4.174636       -1    Steelix     125      230   \n",
       "213             1.387925 -4.876473       -1    Shuckle      10      230   \n",
       "242             1.755389 -0.002718       -1    Blissey      10       10   \n",
       "306             2.563669 -3.645714       -1     Aggron     140      230   \n",
       "378             2.520249 -0.935806       -1     Regice      50      100   \n",
       "\n",
       "                sp_attack  sp_defense   hp  speed  is_legendary  \n",
       "pokedex_number                                                   \n",
       "113                    35         105  250     50             0  \n",
       "202                    33          58  190     33             0  \n",
       "208                    55          95   75     30             0  \n",
       "213                    10         230   20      5             0  \n",
       "242                    75         135  255     55             0  \n",
       "306                    60          80   70     50             0  \n",
       "378                   100         200   80     50             1  "
      ]
     },
     "execution_count": 165,
     "metadata": {},
     "output_type": "execute_result"
    }
   ],
   "source": [
    "df1_details[df1_details[\"cluster\"]==-1]"
   ]
  },
  {
   "cell_type": "markdown",
   "metadata": {},
   "source": [
    "* Since this analysis is to look for multiple cluster, DBSCAN is not the right fit. "
   ]
  },
  {
   "cell_type": "markdown",
   "metadata": {},
   "source": [
    "## Discussion\n",
    "* Possible issues could be related to the parameter selection in DBSCAN, the choice of algorithm, or the nature of the data\n",
    "* Regarding parameter selection, smaller `min_samples` were tested to detect smaller clusters. However, the performance is still not good. Only one main cluster was identified\n",
    "* Regarding the choice of algorithm, Agglomerative Hierarchical Clustering could be explored to determine if it better captures the data structure\n",
    "* Regarding the nature of the data, the data may only have 1 dense region"
   ]
  }
 ],
 "metadata": {
  "kernelspec": {
   "display_name": "venv",
   "language": "python",
   "name": "python3"
  },
  "language_info": {
   "codemirror_mode": {
    "name": "ipython",
    "version": 3
   },
   "file_extension": ".py",
   "mimetype": "text/x-python",
   "name": "python",
   "nbconvert_exporter": "python",
   "pygments_lexer": "ipython3",
   "version": "3.9.6"
  }
 },
 "nbformat": 4,
 "nbformat_minor": 2
}
